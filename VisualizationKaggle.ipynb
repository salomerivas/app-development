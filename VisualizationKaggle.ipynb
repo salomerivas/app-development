{
 "cells": [
  {
   "cell_type": "markdown",
   "metadata": {},
   "source": [
    "# Datasets "
   ]
  },
  {
   "cell_type": "markdown",
   "metadata": {},
   "source": [
    "https://www.kaggle.com/code/dataranch/offensive-stats-eda-model-comparison/input\n",
    "\n",
    "https://www.kaggle.com/datasets/philiphyde1/nfl-stats-1999-2022/data"
   ]
  },
  {
   "cell_type": "markdown",
   "metadata": {},
   "source": [
    "Kaggle Data"
   ]
  },
  {
   "cell_type": "code",
   "execution_count": 339,
   "metadata": {},
   "outputs": [
    {
     "name": "stdout",
     "output_type": "stream",
     "text": [
      "Data downloaded from Kaggle to: /Users/salomerivas/.cache/kagglehub/datasets/philiphyde1/nfl-stats-1999-2022/versions/10\n",
      "Data loaded successfully from: /Users/salomerivas/.cache/kagglehub/datasets/philiphyde1/nfl-stats-1999-2022/versions/10/weekly_player_data.csv (weekly_player_data.csv)\n",
      "Skipping non-CSV file: .DS_Store\n",
      "Data loaded successfully from: /Users/salomerivas/.cache/kagglehub/datasets/philiphyde1/nfl-stats-1999-2022/versions/10/2024_player_predictions.csv (2024_player_predictions.csv)\n",
      "Data loaded successfully from: /Users/salomerivas/.cache/kagglehub/datasets/philiphyde1/nfl-stats-1999-2022/versions/10/yearly_player_data.csv (yearly_player_data.csv)\n",
      "2024 Player Predictions DataFrame:\n",
      "  team   player_id   player_name position  depth  draft_year  draft_round  \\\n",
      "0  BUF  00-0034857    Josh Allen       QB      1        2018            1   \n",
      "1  DAL  00-0036358   CeeDee Lamb       WR      1        2020            1   \n",
      "2  DAL  00-0033077  Dak Prescott       QB      1        2016            4   \n",
      "3  MIA  00-0033040   Tyreek Hill       WR      1        2016            5   \n",
      "4  PHI  00-0036389   Jalen Hurts       QB      1        2020            2   \n",
      "\n",
      "   draft_pick  draft_ovr  height  ...  fantasy_points_ppr  \\\n",
      "0           7          7      77  ...              374.48   \n",
      "1          17         17      74  ...              373.00   \n",
      "2          37        135      74  ...              368.36   \n",
      "3          28        165      70  ...              365.90   \n",
      "4          21         53      73  ...              357.16   \n",
      "\n",
      "  position_fantasy_rank  total_fantasy_rank  pass_attempts  complete_pass  \\\n",
      "0                     1                   1            522            322   \n",
      "1                     1                   2              0              0   \n",
      "2                     2                   3            611            391   \n",
      "3                     2                   4              0              0   \n",
      "4                     3                   5            501            303   \n",
      "\n",
      "   incomplete_pass  passing_yards  passing_air_yards  interception  pass_td  \n",
      "0              150           3537               3817            11       25  \n",
      "1                0              0                  0             0        0  \n",
      "2              161           3949               4334             6       29  \n",
      "3                0              0                  0             0        0  \n",
      "4              143           3174               3520             8       20  \n",
      "\n",
      "[5 rows x 35 columns]\n",
      "Weekly Player Data DataFrame:\n",
      "  team   player_id player_name position  season  week game_type  \\\n",
      "0  TEN  00-0035676  A.J. Brown       WR    2019     1       REG   \n",
      "1  TEN  00-0035676  A.J. Brown       WR    2019     2       REG   \n",
      "2  TEN  00-0035676  A.J. Brown       WR    2019     3       REG   \n",
      "3  TEN  00-0035676  A.J. Brown       WR    2019     4       REG   \n",
      "4  TEN  00-0035676  A.J. Brown       WR    2019     5       REG   \n",
      "\n",
      "   pass_attempts  complete_pass  incomplete_pass  ...      college  age  wins  \\\n",
      "0            0.0            0.0              0.0  ...  Mississippi   22   1.0   \n",
      "1            0.0            0.0              0.0  ...  Mississippi   22   1.0   \n",
      "2            0.0            0.0              0.0  ...  Mississippi   22   1.0   \n",
      "3            0.0            0.0              0.0  ...  Mississippi   22   2.0   \n",
      "4            0.0            0.0              0.0  ...  Mississippi   22   2.0   \n",
      "\n",
      "   losses  ties  win_pct  opp_wins  opp_losses  opp_ties  opp_win_pct  \n",
      "0     0.0   0.0    1.000       0.0         1.0       0.0        0.000  \n",
      "1     1.0   0.0    0.500       1.0         1.0       0.0        0.500  \n",
      "2     2.0   0.0    0.333       1.0         2.0       0.0        0.333  \n",
      "3     2.0   0.0    0.500       1.0         3.0       0.0        0.250  \n",
      "4     3.0   0.0    0.400       4.0         1.0       0.0        0.800  \n",
      "\n",
      "[5 rows x 66 columns]\n",
      "Yearly Player Data DataFrame:\n",
      "  team   player_id player_name position  season  depth  pass_attempts  \\\n",
      "0  TEN  00-0035676  A.J. Brown       WR    2019    2.0            0.0   \n",
      "1  TEN  00-0035676  A.J. Brown       WR    2020    1.0            0.0   \n",
      "2  TEN  00-0035676  A.J. Brown       WR    2021    1.0            2.0   \n",
      "3  PHI  00-0035676  A.J. Brown       WR    2022    1.0            0.0   \n",
      "4  PHI  00-0035676  A.J. Brown       WR    2023    1.0            0.0   \n",
      "\n",
      "   complete_pass  incomplete_pass  passing_yards  ...  vacated_receptions  \\\n",
      "0            0.0              0.0            0.0  ...               147.0   \n",
      "1            0.0              0.0            0.0  ...                62.0   \n",
      "2            0.0              2.0            0.0  ...                74.0   \n",
      "3            0.0              0.0            0.0  ...               135.0   \n",
      "4            0.0              0.0            0.0  ...                47.0   \n",
      "\n",
      "   vacated_receiving_yards  vacated_receiving_air_yards  \\\n",
      "0                   1632.0                       1886.0   \n",
      "1                    730.0                       1015.0   \n",
      "2                    741.0                        804.0   \n",
      "3                   1769.0                       2911.0   \n",
      "4                    471.0                        753.0   \n",
      "\n",
      "   vacated_yards_after_catch  vacated_reception_td  vacated_rush_attempts  \\\n",
      "0                      646.0                   6.0                  185.0   \n",
      "1                      284.0                   4.0                    8.0   \n",
      "2                      331.0                   7.0                   88.0   \n",
      "3                      463.0                  10.0                   83.0   \n",
      "4                      217.0                   6.0                   96.0   \n",
      "\n",
      "   vacated_rushing_yards  vacated_run_td  vacated_touches  vacated_total_yards  \n",
      "0                  656.0             6.0            383.0               2420.0  \n",
      "1                   19.0             0.0            176.0               1338.0  \n",
      "2                  365.0             0.0            345.0               2147.0  \n",
      "3                  397.0             6.0            724.0               4486.0  \n",
      "4                  438.0             3.0            145.0                911.0  \n",
      "\n",
      "[5 rows x 195 columns]\n"
     ]
    }
   ],
   "source": [
    "import pandas as pd\n",
    "import kagglehub\n",
    "import os\n",
    "\n",
    "# Fetch data from Kaggle API\n",
    "try:\n",
    "    path = kagglehub.dataset_download(\"philiphyde1/nfl-stats-1999-2022\")  # Downloads the dataset\n",
    "    print(\"Data downloaded from Kaggle to:\", path)\n",
    "except Exception as e:\n",
    "    print(f\"Failed to download data from Kaggle: {e}\")\n",
    "\n",
    "# Get the list of files in the downloaded directory dynamically\n",
    "downloaded_files = os.listdir(path)\n",
    "\n",
    "# Read each file dynamically (instead of hardcoding paths)\n",
    "dataframes = []\n",
    "\n",
    "for file_name in downloaded_files:\n",
    "    # Skip non-CSV files like .DS_Store\n",
    "    if not file_name.endswith('.csv'):\n",
    "        print(f\"Skipping non-CSV file: {file_name}\")\n",
    "        continue\n",
    "    \n",
    "    file_path = os.path.join(path, file_name)\n",
    "    try:\n",
    "        if '2024_player_predictions' in file_name:\n",
    "                pred_df = pd.read_csv(file_path)\n",
    "                print(f\"Data loaded successfully from: {file_path} (2024_player_predictions.csv)\")\n",
    "        elif 'weekly_player_data' in file_name:\n",
    "                week_df = pd.read_csv(file_path)\n",
    "                print(f\"Data loaded successfully from: {file_path} (weekly_player_data.csv)\")\n",
    "        elif 'yearly_player_data' in file_name:\n",
    "                year_df = pd.read_csv(file_path)\n",
    "                print(f\"Data loaded successfully from: {file_path} (yearly_player_data.csv)\")\n",
    "    except Exception as e:\n",
    "            print(f\"Failed to load data from {file_path}: {e}\")\n",
    "\n",
    "# Check if the specific dataframes are loaded correctly\n",
    "if pred_df is not None:\n",
    "    print(\"2024 Player Predictions DataFrame:\")\n",
    "    print(pred_df.head())\n",
    "else:\n",
    "    print(\"Failed to load 2024_player_predictions.csv\")\n",
    "\n",
    "if week_df is not None:\n",
    "    print(\"Weekly Player Data DataFrame:\")\n",
    "    print(week_df.head())\n",
    "else:\n",
    "    print(\"Failed to load weekly_player_data.csv\")\n",
    "\n",
    "if year_df is not None:\n",
    "    print(\"Yearly Player Data DataFrame:\")\n",
    "    print(year_df.head())\n",
    "else:\n",
    "    print(\"Failed to load yearly_player_data.csv\")\n",
    "\n",
    "\n"
   ]
  },
  {
   "cell_type": "code",
   "execution_count": 340,
   "metadata": {},
   "outputs": [
    {
     "name": "stdout",
     "output_type": "stream",
     "text": [
      "Index(['team', 'player_id', 'player_name', 'position', 'depth', 'draft_year',\n",
      "       'draft_round', 'draft_pick', 'draft_ovr', 'height', 'weight', 'college',\n",
      "       'age', 'seasons_played', 'rush_attempts', 'rushing_yards', 'touches',\n",
      "       'receptions', 'targets', 'receiving_yards', 'yards_after_catch',\n",
      "       'total_yards', 'total_tds', 'run_td', 'reception_td',\n",
      "       'fantasy_points_ppr', 'position_fantasy_rank', 'total_fantasy_rank',\n",
      "       'pass_attempts', 'complete_pass', 'incomplete_pass', 'passing_yards',\n",
      "       'passing_air_yards', 'interception', 'pass_td'],\n",
      "      dtype='object')\n",
      "Index(['team', 'player_id', 'player_name', 'position', 'season', 'week',\n",
      "       'game_type', 'pass_attempts', 'complete_pass', 'incomplete_pass',\n",
      "       'passing_yards', 'passing_air_yards', 'pass_td', 'interception',\n",
      "       'pass_fumble_lost', 'targets', 'receptions', 'receiving_yards',\n",
      "       'receiving_air_yards', 'yards_after_catch', 'reception_td',\n",
      "       'reception_fumble_lost', 'rush_attempts', 'rushing_yards', 'run_td',\n",
      "       'run_fumble_lost', 'fantasy_points_ppr', 'air_yards_share',\n",
      "       'target_share', 'comp_pct', 'int_pct', 'pass_td_pct', 'ypa',\n",
      "       'rec_td_pct', 'yptarget', 'ypr', 'rush_td_pct', 'ypc', 'touches',\n",
      "       'total_tds', 'td_pct', 'total_yards', 'yptouch', 'passer_rating',\n",
      "       'opponent', 'offense_snaps', 'offense_pct', 'team_snaps', 'team_yards',\n",
      "       'yards_pct', 'draft_year', 'draft_round', 'draft_pick', 'draft_ovr',\n",
      "       'height', 'weight', 'college', 'age', 'wins', 'losses', 'ties',\n",
      "       'win_pct', 'opp_wins', 'opp_losses', 'opp_ties', 'opp_win_pct'],\n",
      "      dtype='object')\n",
      "Index(['team', 'player_id', 'player_name', 'position', 'season', 'depth',\n",
      "       'pass_attempts', 'complete_pass', 'incomplete_pass', 'passing_yards',\n",
      "       ...\n",
      "       'vacated_receptions', 'vacated_receiving_yards',\n",
      "       'vacated_receiving_air_yards', 'vacated_yards_after_catch',\n",
      "       'vacated_reception_td', 'vacated_rush_attempts',\n",
      "       'vacated_rushing_yards', 'vacated_run_td', 'vacated_touches',\n",
      "       'vacated_total_yards'],\n",
      "      dtype='object', length=195)\n"
     ]
    }
   ],
   "source": [
    "# Inspect columns of each dataset\n",
    "print(pred_df.columns)\n",
    "print(week_df.columns)\n",
    "print(year_df.columns)"
   ]
  },
  {
   "cell_type": "code",
   "execution_count": 341,
   "metadata": {},
   "outputs": [
    {
     "name": "stdout",
     "output_type": "stream",
     "text": [
      "Loading CSV file: yearly_team_data.csv\n",
      "Data loaded successfully from: /Users/salomerivas/.cache/kagglehub/datasets/philiphyde1/nfl-stats-1999-2022/versions/10/yearly_team_data.csv\n",
      "Loading CSV file: weekly_player_data.csv\n",
      "Data loaded successfully from: /Users/salomerivas/.cache/kagglehub/datasets/philiphyde1/nfl-stats-1999-2022/versions/10/weekly_player_data.csv\n",
      "Skipping non-CSV file: .DS_Store\n",
      "Loading CSV file: 2024_player_predictions.csv\n",
      "Data loaded successfully from: /Users/salomerivas/.cache/kagglehub/datasets/philiphyde1/nfl-stats-1999-2022/versions/10/2024_player_predictions.csv\n",
      "Loading CSV file: yearly_player_data.csv\n",
      "Data loaded successfully from: /Users/salomerivas/.cache/kagglehub/datasets/philiphyde1/nfl-stats-1999-2022/versions/10/yearly_player_data.csv\n",
      "Loading CSV file: weekly_team_data.csv\n",
      "Data loaded successfully from: /Users/salomerivas/.cache/kagglehub/datasets/philiphyde1/nfl-stats-1999-2022/versions/10/weekly_team_data.csv\n"
     ]
    }
   ],
   "source": [
    "for file_name in downloaded_files:\n",
    "    # Skip non-CSV files like .DS_Store\n",
    "    if not file_name.endswith('.csv'):\n",
    "        print(f\"Skipping non-CSV file: {file_name}\")\n",
    "        continue\n",
    "    \n",
    "    file_path = os.path.join(path, file_name)\n",
    "    try:\n",
    "        print(f\"Loading CSV file: {file_name}\")\n",
    "        df = pd.read_csv(file_path)\n",
    "        dataframes.append(df)\n",
    "        print(f\"Data loaded successfully from: {file_path}\")\n",
    "    except Exception as e:\n",
    "        print(f\"Failed to load data from {file_path}: {e}\")\n"
   ]
  },
  {
   "cell_type": "markdown",
   "metadata": {},
   "source": [
    "# Weekly Data "
   ]
  },
  {
   "cell_type": "markdown",
   "metadata": {},
   "source": [
    "Overview of the Dataset "
   ]
  },
  {
   "cell_type": "code",
   "execution_count": 342,
   "metadata": {},
   "outputs": [
    {
     "name": "stdout",
     "output_type": "stream",
     "text": [
      "Dataset Shape: (50863, 66)\n",
      "  team   player_id player_name position  season  week game_type  \\\n",
      "0  TEN  00-0035676  A.J. Brown       WR    2019     1       REG   \n",
      "1  TEN  00-0035676  A.J. Brown       WR    2019     2       REG   \n",
      "2  TEN  00-0035676  A.J. Brown       WR    2019     3       REG   \n",
      "3  TEN  00-0035676  A.J. Brown       WR    2019     4       REG   \n",
      "4  TEN  00-0035676  A.J. Brown       WR    2019     5       REG   \n",
      "\n",
      "   pass_attempts  complete_pass  incomplete_pass  ...      college  age  wins  \\\n",
      "0            0.0            0.0              0.0  ...  Mississippi   22   1.0   \n",
      "1            0.0            0.0              0.0  ...  Mississippi   22   1.0   \n",
      "2            0.0            0.0              0.0  ...  Mississippi   22   1.0   \n",
      "3            0.0            0.0              0.0  ...  Mississippi   22   2.0   \n",
      "4            0.0            0.0              0.0  ...  Mississippi   22   2.0   \n",
      "\n",
      "   losses  ties  win_pct  opp_wins  opp_losses  opp_ties  opp_win_pct  \n",
      "0     0.0   0.0    1.000       0.0         1.0       0.0        0.000  \n",
      "1     1.0   0.0    0.500       1.0         1.0       0.0        0.500  \n",
      "2     2.0   0.0    0.333       1.0         2.0       0.0        0.333  \n",
      "3     2.0   0.0    0.500       1.0         3.0       0.0        0.250  \n",
      "4     3.0   0.0    0.400       4.0         1.0       0.0        0.800  \n",
      "\n",
      "[5 rows x 66 columns]\n",
      "      team   player_id     player_name position  season  week game_type  \\\n",
      "50858  NYJ  00-0037157  Zonovan Knight       RB    2022    15       REG   \n",
      "50859  NYJ  00-0037157  Zonovan Knight       RB    2022    16       REG   \n",
      "50860  NYJ  00-0037157  Zonovan Knight       RB    2022    17       REG   \n",
      "50861  NYJ  00-0037157  Zonovan Knight       RB    2022    18       REG   \n",
      "50862  DET  00-0037157  Zonovan Knight       RB    2023     5       REG   \n",
      "\n",
      "       pass_attempts  complete_pass  incomplete_pass  ...  \\\n",
      "50858            0.0            0.0              0.0  ...   \n",
      "50859            0.0            0.0              0.0  ...   \n",
      "50860            0.0            0.0              0.0  ...   \n",
      "50861            0.0            0.0              0.0  ...   \n",
      "50862            0.0            0.0              0.0  ...   \n",
      "\n",
      "                    college  age  wins  losses  ties  win_pct  opp_wins  \\\n",
      "50858  North Carolina State   21   7.0     7.0   0.0    0.500       7.0   \n",
      "50859  North Carolina State   21   7.0     8.0   0.0    0.467       7.0   \n",
      "50860  North Carolina State   21   7.0     9.0   0.0    0.438       8.0   \n",
      "50861  North Carolina State   21   7.0    10.0   0.0    0.412       9.0   \n",
      "50862  North Carolina State   22   4.0     1.0   0.0    0.800       0.0   \n",
      "\n",
      "       opp_losses  opp_ties  opp_win_pct  \n",
      "50858         7.0       0.0        0.500  \n",
      "50859         8.0       0.0        0.467  \n",
      "50860         8.0       0.0        0.500  \n",
      "50861         8.0       0.0        0.529  \n",
      "50862         5.0       0.0        0.000  \n",
      "\n",
      "[5 rows x 66 columns]\n",
      "Index(['team', 'player_id', 'player_name', 'position', 'season', 'week',\n",
      "       'game_type', 'pass_attempts', 'complete_pass', 'incomplete_pass',\n",
      "       'passing_yards', 'passing_air_yards', 'pass_td', 'interception',\n",
      "       'pass_fumble_lost', 'targets', 'receptions', 'receiving_yards',\n",
      "       'receiving_air_yards', 'yards_after_catch', 'reception_td',\n",
      "       'reception_fumble_lost', 'rush_attempts', 'rushing_yards', 'run_td',\n",
      "       'run_fumble_lost', 'fantasy_points_ppr', 'air_yards_share',\n",
      "       'target_share', 'comp_pct', 'int_pct', 'pass_td_pct', 'ypa',\n",
      "       'rec_td_pct', 'yptarget', 'ypr', 'rush_td_pct', 'ypc', 'touches',\n",
      "       'total_tds', 'td_pct', 'total_yards', 'yptouch', 'passer_rating',\n",
      "       'opponent', 'offense_snaps', 'offense_pct', 'team_snaps', 'team_yards',\n",
      "       'yards_pct', 'draft_year', 'draft_round', 'draft_pick', 'draft_ovr',\n",
      "       'height', 'weight', 'college', 'age', 'wins', 'losses', 'ties',\n",
      "       'win_pct', 'opp_wins', 'opp_losses', 'opp_ties', 'opp_win_pct'],\n",
      "      dtype='object')\n",
      "team            object\n",
      "player_id       object\n",
      "player_name     object\n",
      "position        object\n",
      "season           int64\n",
      "                ...   \n",
      "win_pct        float64\n",
      "opp_wins       float64\n",
      "opp_losses     float64\n",
      "opp_ties       float64\n",
      "opp_win_pct    float64\n",
      "Length: 66, dtype: object\n"
     ]
    }
   ],
   "source": [
    "import pandas as pd\n",
    "\n",
    "# Check the shape\n",
    "print(\"Dataset Shape:\", week_df.shape)\n",
    "\n",
    "print(week_df.head())\n",
    "\n",
    "print(week_df.tail())\n",
    "\n",
    "# List the column names\n",
    "print(week_df.columns)\n",
    "\n",
    "# Check data types for each column\n",
    "print(week_df.dtypes)"
   ]
  },
  {
   "cell_type": "code",
   "execution_count": 343,
   "metadata": {},
   "outputs": [
    {
     "name": "stdout",
     "output_type": "stream",
     "text": [
      "The 'player_name' column exists!\n",
      "0            A.J. Brown\n",
      "1            A.J. Brown\n",
      "2            A.J. Brown\n",
      "3            A.J. Brown\n",
      "4            A.J. Brown\n",
      "              ...      \n",
      "50858    Zonovan Knight\n",
      "50859    Zonovan Knight\n",
      "50860    Zonovan Knight\n",
      "50861    Zonovan Knight\n",
      "50862    Zonovan Knight\n",
      "Name: player_name, Length: 50863, dtype: object\n"
     ]
    }
   ],
   "source": [
    "if 'player_name' in week_df.columns:\n",
    "    print(\"The 'player_name' column exists!\")\n",
    "else:\n",
    "    print(\"The 'player_name' column does not exist.\")\n",
    "print(week_df.player_name)"
   ]
  },
  {
   "cell_type": "code",
   "execution_count": 344,
   "metadata": {},
   "outputs": [
    {
     "name": "stdout",
     "output_type": "stream",
     "text": [
      "Empty DataFrame\n",
      "Columns: [team, player_id, player_name, position, season, week, game_type, pass_attempts, complete_pass, incomplete_pass, passing_yards, passing_air_yards, pass_td, interception, pass_fumble_lost, targets, receptions, receiving_yards, receiving_air_yards, yards_after_catch, reception_td, reception_fumble_lost, rush_attempts, rushing_yards, run_td, run_fumble_lost, fantasy_points_ppr, air_yards_share, target_share, comp_pct, int_pct, pass_td_pct, ypa, rec_td_pct, yptarget, ypr, rush_td_pct, ypc, touches, total_tds, td_pct, total_yards, yptouch, passer_rating, opponent, offense_snaps, offense_pct, team_snaps, team_yards, yards_pct, draft_year, draft_round, draft_pick, draft_ovr, height, weight, college, age, wins, losses, ties, win_pct, opp_wins, opp_losses, opp_ties, opp_win_pct]\n",
      "Index: []\n",
      "\n",
      "[0 rows x 66 columns]\n"
     ]
    }
   ],
   "source": [
    "nan_player_name1 = week_df[week_df['player_name'].isna()]\n",
    "print(nan_player_name1)"
   ]
  },
  {
   "cell_type": "markdown",
   "metadata": {},
   "source": [
    "# Yearly Data "
   ]
  },
  {
   "cell_type": "markdown",
   "metadata": {},
   "source": [
    "Overview of the Dataset "
   ]
  },
  {
   "cell_type": "code",
   "execution_count": 345,
   "metadata": {},
   "outputs": [
    {
     "name": "stdout",
     "output_type": "stream",
     "text": [
      "Dataset Shape: (5663, 195)\n",
      "  team   player_id player_name position  season  depth  pass_attempts  \\\n",
      "0  TEN  00-0035676  A.J. Brown       WR    2019    2.0            0.0   \n",
      "1  TEN  00-0035676  A.J. Brown       WR    2020    1.0            0.0   \n",
      "2  TEN  00-0035676  A.J. Brown       WR    2021    1.0            2.0   \n",
      "3  PHI  00-0035676  A.J. Brown       WR    2022    1.0            0.0   \n",
      "4  PHI  00-0035676  A.J. Brown       WR    2023    1.0            0.0   \n",
      "\n",
      "   complete_pass  incomplete_pass  passing_yards  ...  vacated_receptions  \\\n",
      "0            0.0              0.0            0.0  ...               147.0   \n",
      "1            0.0              0.0            0.0  ...                62.0   \n",
      "2            0.0              2.0            0.0  ...                74.0   \n",
      "3            0.0              0.0            0.0  ...               135.0   \n",
      "4            0.0              0.0            0.0  ...                47.0   \n",
      "\n",
      "   vacated_receiving_yards  vacated_receiving_air_yards  \\\n",
      "0                   1632.0                       1886.0   \n",
      "1                    730.0                       1015.0   \n",
      "2                    741.0                        804.0   \n",
      "3                   1769.0                       2911.0   \n",
      "4                    471.0                        753.0   \n",
      "\n",
      "   vacated_yards_after_catch  vacated_reception_td  vacated_rush_attempts  \\\n",
      "0                      646.0                   6.0                  185.0   \n",
      "1                      284.0                   4.0                    8.0   \n",
      "2                      331.0                   7.0                   88.0   \n",
      "3                      463.0                  10.0                   83.0   \n",
      "4                      217.0                   6.0                   96.0   \n",
      "\n",
      "   vacated_rushing_yards  vacated_run_td  vacated_touches  vacated_total_yards  \n",
      "0                  656.0             6.0            383.0               2420.0  \n",
      "1                   19.0             0.0            176.0               1338.0  \n",
      "2                  365.0             0.0            345.0               2147.0  \n",
      "3                  397.0             6.0            724.0               4486.0  \n",
      "4                  438.0             3.0            145.0                911.0  \n",
      "\n",
      "[5 rows x 195 columns]\n",
      "     team   player_id     player_name position  season  depth  pass_attempts  \\\n",
      "5658   LV  00-0033891       Zay Jones       WR    2021    1.0            0.0   \n",
      "5659  JAX  00-0033891       Zay Jones       WR    2022    1.0            0.0   \n",
      "5660  JAX  00-0033891       Zay Jones       WR    2023    1.0            0.0   \n",
      "5661  NYJ  00-0037157  Zonovan Knight       RB    2022    2.0            0.0   \n",
      "5662  DET  00-0037157  Zonovan Knight       RB    2023    3.0            0.0   \n",
      "\n",
      "      complete_pass  incomplete_pass  passing_yards  ...  vacated_receptions  \\\n",
      "5658            0.0              0.0            0.0  ...                 0.0   \n",
      "5659            0.0              0.0            0.0  ...               187.0   \n",
      "5660            0.0              0.0            0.0  ...               223.0   \n",
      "5661            0.0              0.0            0.0  ...               101.0   \n",
      "5662            0.0              0.0            0.0  ...               101.0   \n",
      "\n",
      "      vacated_receiving_yards  vacated_receiving_air_yards  \\\n",
      "5658                      0.0                          0.0   \n",
      "5659                   1988.0                       2705.0   \n",
      "5660                   2164.0                       2396.0   \n",
      "5661                   1044.0                       1525.0   \n",
      "5662                    979.0                       1168.0   \n",
      "\n",
      "      vacated_yards_after_catch  vacated_reception_td  vacated_rush_attempts  \\\n",
      "5658                        0.0                   0.0                    0.0   \n",
      "5659                      688.0                  12.0                   44.0   \n",
      "5660                     1189.0                   7.0                  310.0   \n",
      "5661                      433.0                   7.0                  248.0   \n",
      "5662                      407.0                   5.0                   35.0   \n",
      "\n",
      "      vacated_rushing_yards  vacated_run_td  vacated_touches  \\\n",
      "5658                    0.0             0.0              0.0   \n",
      "5659                  213.0             2.0            895.0   \n",
      "5660                 1302.0            10.0            533.0   \n",
      "5661                 1052.0             6.0            747.0   \n",
      "5662                  212.0             3.0            232.0   \n",
      "\n",
      "      vacated_total_yards  \n",
      "5658                  0.0  \n",
      "5659               5908.0  \n",
      "5660               3466.0  \n",
      "5661               4072.0  \n",
      "5662               1713.0  \n",
      "\n",
      "[5 rows x 195 columns]\n",
      "Index(['team', 'player_id', 'player_name', 'position', 'season', 'depth',\n",
      "       'pass_attempts', 'complete_pass', 'incomplete_pass', 'passing_yards',\n",
      "       ...\n",
      "       'vacated_receptions', 'vacated_receiving_yards',\n",
      "       'vacated_receiving_air_yards', 'vacated_yards_after_catch',\n",
      "       'vacated_reception_td', 'vacated_rush_attempts',\n",
      "       'vacated_rushing_yards', 'vacated_run_td', 'vacated_touches',\n",
      "       'vacated_total_yards'],\n",
      "      dtype='object', length=195)\n",
      "team                      object\n",
      "player_id                 object\n",
      "player_name               object\n",
      "position                  object\n",
      "season                     int64\n",
      "                          ...   \n",
      "vacated_rush_attempts    float64\n",
      "vacated_rushing_yards    float64\n",
      "vacated_run_td           float64\n",
      "vacated_touches          float64\n",
      "vacated_total_yards      float64\n",
      "Length: 195, dtype: object\n"
     ]
    }
   ],
   "source": [
    "import pandas as pd\n",
    "\n",
    "# Check the shape\n",
    "print(\"Dataset Shape:\", year_df.shape)\n",
    "\n",
    "print(year_df.head())\n",
    "\n",
    "print(year_df.tail())\n",
    "\n",
    "# List the column names\n",
    "print(year_df.columns)\n",
    "\n",
    "# Check data types for each column\n",
    "print(year_df.dtypes)"
   ]
  },
  {
   "cell_type": "code",
   "execution_count": 346,
   "metadata": {},
   "outputs": [
    {
     "name": "stdout",
     "output_type": "stream",
     "text": [
      "The 'player_name' column exists!\n",
      "0           A.J. Brown\n",
      "1           A.J. Brown\n",
      "2           A.J. Brown\n",
      "3           A.J. Brown\n",
      "4           A.J. Brown\n",
      "             ...      \n",
      "5658         Zay Jones\n",
      "5659         Zay Jones\n",
      "5660         Zay Jones\n",
      "5661    Zonovan Knight\n",
      "5662    Zonovan Knight\n",
      "Name: player_name, Length: 5663, dtype: object\n"
     ]
    }
   ],
   "source": [
    "if 'player_name' in year_df.columns:\n",
    "    print(\"The 'player_name' column exists!\")\n",
    "else:\n",
    "    print(\"The 'player_name' column does not exist.\")\n",
    "print(year_df.player_name)"
   ]
  },
  {
   "cell_type": "code",
   "execution_count": 347,
   "metadata": {},
   "outputs": [
    {
     "name": "stdout",
     "output_type": "stream",
     "text": [
      "Empty DataFrame\n",
      "Columns: [team, player_id, player_name, position, season, depth, pass_attempts, complete_pass, incomplete_pass, passing_yards, passing_air_yards, pass_td, interception, pass_fumble_lost, targets, receptions, receiving_yards, receiving_air_yards, yards_after_catch, reception_td, reception_fumble_lost, rush_attempts, rushing_yards, run_td, run_fumble_lost, fantasy_points_ppr, air_yards_share, target_share, comp_pct, int_pct, pass_td_pct, ypa, rec_td_pct, yptarget, ypr, rush_td_pct, ypc, touches, total_tds, td_pct, total_yards, yptouch, games, pass_ypg, rec_ypg, rush_ypg, ypg, ppg, passer_rating, game_type, offense_pct, delta_depth, delta_pass_attempts, delta_targets, delta_rush_attempts, delta_air_yards_share, delta_target_share, delta_comp_pct, delta_int_pct, delta_pass_td_pct, delta_ypa, delta_rec_td_pct, delta_yptarget, delta_rush_td_pct, delta_ypc, delta_touches, delta_td_pct, delta_yptouch, delta_games, delta_pass_ypg, delta_rec_ypg, delta_rush_ypg, delta_ypg, delta_ppg, delta_passer_rating, delta_offense_pct, team_total_snaps, team_yards_gained, team_pass_snaps_count, team_pass_snaps_pct, team_pass_attempts, team_complete_pass, team_incomplete_pass, team_passing_yards, team_pass_td, team_interception, team_targets, team_receptions, team_receiving_yards, team_receiving_td, team_rush_snaps_count, team_rush_snaps_pct, team_rushing_yards, team_run_td, offense_snaps, yards_pct, draft_year, draft_round, draft_pick, draft_ovr, ...]\n",
      "Index: []\n",
      "\n",
      "[0 rows x 195 columns]\n"
     ]
    }
   ],
   "source": [
    "nan_player_name2 = year_df[year_df['player_name'].isna()]\n",
    "print(nan_player_name2)"
   ]
  },
  {
   "cell_type": "code",
   "execution_count": 348,
   "metadata": {},
   "outputs": [
    {
     "name": "stdout",
     "output_type": "stream",
     "text": [
      "0           a.j. brown\n",
      "1           a.j. brown\n",
      "2           a.j. brown\n",
      "3           a.j. brown\n",
      "4           a.j. brown\n",
      "             ...      \n",
      "5658         zay jones\n",
      "5659         zay jones\n",
      "5660         zay jones\n",
      "5661    zonovan knight\n",
      "5662    zonovan knight\n",
      "Name: player_name, Length: 5663, dtype: object\n"
     ]
    }
   ],
   "source": [
    "year_df['player_name'] = year_df['player_name'].str.strip().str.lower()\n",
    "print(year_df.player_name)"
   ]
  },
  {
   "cell_type": "code",
   "execution_count": 349,
   "metadata": {},
   "outputs": [
    {
     "data": {
      "text/html": [
       "<div>\n",
       "<style scoped>\n",
       "    .dataframe tbody tr th:only-of-type {\n",
       "        vertical-align: middle;\n",
       "    }\n",
       "\n",
       "    .dataframe tbody tr th {\n",
       "        vertical-align: top;\n",
       "    }\n",
       "\n",
       "    .dataframe thead th {\n",
       "        text-align: right;\n",
       "    }\n",
       "</style>\n",
       "<table border=\"1\" class=\"dataframe\">\n",
       "  <thead>\n",
       "    <tr style=\"text-align: right;\">\n",
       "      <th></th>\n",
       "      <th>team</th>\n",
       "      <th>player_id</th>\n",
       "      <th>player_name</th>\n",
       "      <th>position</th>\n",
       "      <th>season</th>\n",
       "      <th>depth</th>\n",
       "      <th>pass_attempts</th>\n",
       "      <th>complete_pass</th>\n",
       "      <th>incomplete_pass</th>\n",
       "      <th>passing_yards</th>\n",
       "      <th>...</th>\n",
       "      <th>vacated_receptions</th>\n",
       "      <th>vacated_receiving_yards</th>\n",
       "      <th>vacated_receiving_air_yards</th>\n",
       "      <th>vacated_yards_after_catch</th>\n",
       "      <th>vacated_reception_td</th>\n",
       "      <th>vacated_rush_attempts</th>\n",
       "      <th>vacated_rushing_yards</th>\n",
       "      <th>vacated_run_td</th>\n",
       "      <th>vacated_touches</th>\n",
       "      <th>vacated_total_yards</th>\n",
       "    </tr>\n",
       "  </thead>\n",
       "  <tbody>\n",
       "    <tr>\n",
       "      <th>0</th>\n",
       "      <td>TEN</td>\n",
       "      <td>00-0035676</td>\n",
       "      <td>a.j. brown</td>\n",
       "      <td>WR</td>\n",
       "      <td>2019</td>\n",
       "      <td>2.0</td>\n",
       "      <td>0.0</td>\n",
       "      <td>0.0</td>\n",
       "      <td>0.0</td>\n",
       "      <td>0.0</td>\n",
       "      <td>...</td>\n",
       "      <td>147.0</td>\n",
       "      <td>1632.0</td>\n",
       "      <td>1886.0</td>\n",
       "      <td>646.0</td>\n",
       "      <td>6.0</td>\n",
       "      <td>185.0</td>\n",
       "      <td>656.0</td>\n",
       "      <td>6.0</td>\n",
       "      <td>383.0</td>\n",
       "      <td>2420.0</td>\n",
       "    </tr>\n",
       "    <tr>\n",
       "      <th>1</th>\n",
       "      <td>TEN</td>\n",
       "      <td>00-0035676</td>\n",
       "      <td>a.j. brown</td>\n",
       "      <td>WR</td>\n",
       "      <td>2020</td>\n",
       "      <td>1.0</td>\n",
       "      <td>0.0</td>\n",
       "      <td>0.0</td>\n",
       "      <td>0.0</td>\n",
       "      <td>0.0</td>\n",
       "      <td>...</td>\n",
       "      <td>62.0</td>\n",
       "      <td>730.0</td>\n",
       "      <td>1015.0</td>\n",
       "      <td>284.0</td>\n",
       "      <td>4.0</td>\n",
       "      <td>8.0</td>\n",
       "      <td>19.0</td>\n",
       "      <td>0.0</td>\n",
       "      <td>176.0</td>\n",
       "      <td>1338.0</td>\n",
       "    </tr>\n",
       "    <tr>\n",
       "      <th>2</th>\n",
       "      <td>TEN</td>\n",
       "      <td>00-0035676</td>\n",
       "      <td>a.j. brown</td>\n",
       "      <td>WR</td>\n",
       "      <td>2021</td>\n",
       "      <td>1.0</td>\n",
       "      <td>2.0</td>\n",
       "      <td>0.0</td>\n",
       "      <td>2.0</td>\n",
       "      <td>0.0</td>\n",
       "      <td>...</td>\n",
       "      <td>74.0</td>\n",
       "      <td>741.0</td>\n",
       "      <td>804.0</td>\n",
       "      <td>331.0</td>\n",
       "      <td>7.0</td>\n",
       "      <td>88.0</td>\n",
       "      <td>365.0</td>\n",
       "      <td>0.0</td>\n",
       "      <td>345.0</td>\n",
       "      <td>2147.0</td>\n",
       "    </tr>\n",
       "    <tr>\n",
       "      <th>3</th>\n",
       "      <td>PHI</td>\n",
       "      <td>00-0035676</td>\n",
       "      <td>a.j. brown</td>\n",
       "      <td>WR</td>\n",
       "      <td>2022</td>\n",
       "      <td>1.0</td>\n",
       "      <td>0.0</td>\n",
       "      <td>0.0</td>\n",
       "      <td>0.0</td>\n",
       "      <td>0.0</td>\n",
       "      <td>...</td>\n",
       "      <td>135.0</td>\n",
       "      <td>1769.0</td>\n",
       "      <td>2911.0</td>\n",
       "      <td>463.0</td>\n",
       "      <td>10.0</td>\n",
       "      <td>83.0</td>\n",
       "      <td>397.0</td>\n",
       "      <td>6.0</td>\n",
       "      <td>724.0</td>\n",
       "      <td>4486.0</td>\n",
       "    </tr>\n",
       "    <tr>\n",
       "      <th>4</th>\n",
       "      <td>PHI</td>\n",
       "      <td>00-0035676</td>\n",
       "      <td>a.j. brown</td>\n",
       "      <td>WR</td>\n",
       "      <td>2023</td>\n",
       "      <td>1.0</td>\n",
       "      <td>0.0</td>\n",
       "      <td>0.0</td>\n",
       "      <td>0.0</td>\n",
       "      <td>0.0</td>\n",
       "      <td>...</td>\n",
       "      <td>47.0</td>\n",
       "      <td>471.0</td>\n",
       "      <td>753.0</td>\n",
       "      <td>217.0</td>\n",
       "      <td>6.0</td>\n",
       "      <td>96.0</td>\n",
       "      <td>438.0</td>\n",
       "      <td>3.0</td>\n",
       "      <td>145.0</td>\n",
       "      <td>911.0</td>\n",
       "    </tr>\n",
       "    <tr>\n",
       "      <th>...</th>\n",
       "      <td>...</td>\n",
       "      <td>...</td>\n",
       "      <td>...</td>\n",
       "      <td>...</td>\n",
       "      <td>...</td>\n",
       "      <td>...</td>\n",
       "      <td>...</td>\n",
       "      <td>...</td>\n",
       "      <td>...</td>\n",
       "      <td>...</td>\n",
       "      <td>...</td>\n",
       "      <td>...</td>\n",
       "      <td>...</td>\n",
       "      <td>...</td>\n",
       "      <td>...</td>\n",
       "      <td>...</td>\n",
       "      <td>...</td>\n",
       "      <td>...</td>\n",
       "      <td>...</td>\n",
       "      <td>...</td>\n",
       "      <td>...</td>\n",
       "    </tr>\n",
       "    <tr>\n",
       "      <th>5658</th>\n",
       "      <td>LV</td>\n",
       "      <td>00-0033891</td>\n",
       "      <td>zay jones</td>\n",
       "      <td>WR</td>\n",
       "      <td>2021</td>\n",
       "      <td>1.0</td>\n",
       "      <td>0.0</td>\n",
       "      <td>0.0</td>\n",
       "      <td>0.0</td>\n",
       "      <td>0.0</td>\n",
       "      <td>...</td>\n",
       "      <td>0.0</td>\n",
       "      <td>0.0</td>\n",
       "      <td>0.0</td>\n",
       "      <td>0.0</td>\n",
       "      <td>0.0</td>\n",
       "      <td>0.0</td>\n",
       "      <td>0.0</td>\n",
       "      <td>0.0</td>\n",
       "      <td>0.0</td>\n",
       "      <td>0.0</td>\n",
       "    </tr>\n",
       "    <tr>\n",
       "      <th>5659</th>\n",
       "      <td>JAX</td>\n",
       "      <td>00-0033891</td>\n",
       "      <td>zay jones</td>\n",
       "      <td>WR</td>\n",
       "      <td>2022</td>\n",
       "      <td>1.0</td>\n",
       "      <td>0.0</td>\n",
       "      <td>0.0</td>\n",
       "      <td>0.0</td>\n",
       "      <td>0.0</td>\n",
       "      <td>...</td>\n",
       "      <td>187.0</td>\n",
       "      <td>1988.0</td>\n",
       "      <td>2705.0</td>\n",
       "      <td>688.0</td>\n",
       "      <td>12.0</td>\n",
       "      <td>44.0</td>\n",
       "      <td>213.0</td>\n",
       "      <td>2.0</td>\n",
       "      <td>895.0</td>\n",
       "      <td>5908.0</td>\n",
       "    </tr>\n",
       "    <tr>\n",
       "      <th>5660</th>\n",
       "      <td>JAX</td>\n",
       "      <td>00-0033891</td>\n",
       "      <td>zay jones</td>\n",
       "      <td>WR</td>\n",
       "      <td>2023</td>\n",
       "      <td>1.0</td>\n",
       "      <td>0.0</td>\n",
       "      <td>0.0</td>\n",
       "      <td>0.0</td>\n",
       "      <td>0.0</td>\n",
       "      <td>...</td>\n",
       "      <td>223.0</td>\n",
       "      <td>2164.0</td>\n",
       "      <td>2396.0</td>\n",
       "      <td>1189.0</td>\n",
       "      <td>7.0</td>\n",
       "      <td>310.0</td>\n",
       "      <td>1302.0</td>\n",
       "      <td>10.0</td>\n",
       "      <td>533.0</td>\n",
       "      <td>3466.0</td>\n",
       "    </tr>\n",
       "    <tr>\n",
       "      <th>5661</th>\n",
       "      <td>NYJ</td>\n",
       "      <td>00-0037157</td>\n",
       "      <td>zonovan knight</td>\n",
       "      <td>RB</td>\n",
       "      <td>2022</td>\n",
       "      <td>2.0</td>\n",
       "      <td>0.0</td>\n",
       "      <td>0.0</td>\n",
       "      <td>0.0</td>\n",
       "      <td>0.0</td>\n",
       "      <td>...</td>\n",
       "      <td>101.0</td>\n",
       "      <td>1044.0</td>\n",
       "      <td>1525.0</td>\n",
       "      <td>433.0</td>\n",
       "      <td>7.0</td>\n",
       "      <td>248.0</td>\n",
       "      <td>1052.0</td>\n",
       "      <td>6.0</td>\n",
       "      <td>747.0</td>\n",
       "      <td>4072.0</td>\n",
       "    </tr>\n",
       "    <tr>\n",
       "      <th>5662</th>\n",
       "      <td>DET</td>\n",
       "      <td>00-0037157</td>\n",
       "      <td>zonovan knight</td>\n",
       "      <td>RB</td>\n",
       "      <td>2023</td>\n",
       "      <td>3.0</td>\n",
       "      <td>0.0</td>\n",
       "      <td>0.0</td>\n",
       "      <td>0.0</td>\n",
       "      <td>0.0</td>\n",
       "      <td>...</td>\n",
       "      <td>101.0</td>\n",
       "      <td>979.0</td>\n",
       "      <td>1168.0</td>\n",
       "      <td>407.0</td>\n",
       "      <td>5.0</td>\n",
       "      <td>35.0</td>\n",
       "      <td>212.0</td>\n",
       "      <td>3.0</td>\n",
       "      <td>232.0</td>\n",
       "      <td>1713.0</td>\n",
       "    </tr>\n",
       "  </tbody>\n",
       "</table>\n",
       "<p>5663 rows × 195 columns</p>\n",
       "</div>"
      ],
      "text/plain": [
       "     team   player_id     player_name position  season  depth  pass_attempts  \\\n",
       "0     TEN  00-0035676      a.j. brown       WR    2019    2.0            0.0   \n",
       "1     TEN  00-0035676      a.j. brown       WR    2020    1.0            0.0   \n",
       "2     TEN  00-0035676      a.j. brown       WR    2021    1.0            2.0   \n",
       "3     PHI  00-0035676      a.j. brown       WR    2022    1.0            0.0   \n",
       "4     PHI  00-0035676      a.j. brown       WR    2023    1.0            0.0   \n",
       "...   ...         ...             ...      ...     ...    ...            ...   \n",
       "5658   LV  00-0033891       zay jones       WR    2021    1.0            0.0   \n",
       "5659  JAX  00-0033891       zay jones       WR    2022    1.0            0.0   \n",
       "5660  JAX  00-0033891       zay jones       WR    2023    1.0            0.0   \n",
       "5661  NYJ  00-0037157  zonovan knight       RB    2022    2.0            0.0   \n",
       "5662  DET  00-0037157  zonovan knight       RB    2023    3.0            0.0   \n",
       "\n",
       "      complete_pass  incomplete_pass  passing_yards  ...  vacated_receptions  \\\n",
       "0               0.0              0.0            0.0  ...               147.0   \n",
       "1               0.0              0.0            0.0  ...                62.0   \n",
       "2               0.0              2.0            0.0  ...                74.0   \n",
       "3               0.0              0.0            0.0  ...               135.0   \n",
       "4               0.0              0.0            0.0  ...                47.0   \n",
       "...             ...              ...            ...  ...                 ...   \n",
       "5658            0.0              0.0            0.0  ...                 0.0   \n",
       "5659            0.0              0.0            0.0  ...               187.0   \n",
       "5660            0.0              0.0            0.0  ...               223.0   \n",
       "5661            0.0              0.0            0.0  ...               101.0   \n",
       "5662            0.0              0.0            0.0  ...               101.0   \n",
       "\n",
       "      vacated_receiving_yards  vacated_receiving_air_yards  \\\n",
       "0                      1632.0                       1886.0   \n",
       "1                       730.0                       1015.0   \n",
       "2                       741.0                        804.0   \n",
       "3                      1769.0                       2911.0   \n",
       "4                       471.0                        753.0   \n",
       "...                       ...                          ...   \n",
       "5658                      0.0                          0.0   \n",
       "5659                   1988.0                       2705.0   \n",
       "5660                   2164.0                       2396.0   \n",
       "5661                   1044.0                       1525.0   \n",
       "5662                    979.0                       1168.0   \n",
       "\n",
       "      vacated_yards_after_catch  vacated_reception_td  vacated_rush_attempts  \\\n",
       "0                         646.0                   6.0                  185.0   \n",
       "1                         284.0                   4.0                    8.0   \n",
       "2                         331.0                   7.0                   88.0   \n",
       "3                         463.0                  10.0                   83.0   \n",
       "4                         217.0                   6.0                   96.0   \n",
       "...                         ...                   ...                    ...   \n",
       "5658                        0.0                   0.0                    0.0   \n",
       "5659                      688.0                  12.0                   44.0   \n",
       "5660                     1189.0                   7.0                  310.0   \n",
       "5661                      433.0                   7.0                  248.0   \n",
       "5662                      407.0                   5.0                   35.0   \n",
       "\n",
       "      vacated_rushing_yards  vacated_run_td  vacated_touches  \\\n",
       "0                     656.0             6.0            383.0   \n",
       "1                      19.0             0.0            176.0   \n",
       "2                     365.0             0.0            345.0   \n",
       "3                     397.0             6.0            724.0   \n",
       "4                     438.0             3.0            145.0   \n",
       "...                     ...             ...              ...   \n",
       "5658                    0.0             0.0              0.0   \n",
       "5659                  213.0             2.0            895.0   \n",
       "5660                 1302.0            10.0            533.0   \n",
       "5661                 1052.0             6.0            747.0   \n",
       "5662                  212.0             3.0            232.0   \n",
       "\n",
       "      vacated_total_yards  \n",
       "0                  2420.0  \n",
       "1                  1338.0  \n",
       "2                  2147.0  \n",
       "3                  4486.0  \n",
       "4                   911.0  \n",
       "...                   ...  \n",
       "5658                  0.0  \n",
       "5659               5908.0  \n",
       "5660               3466.0  \n",
       "5661               4072.0  \n",
       "5662               1713.0  \n",
       "\n",
       "[5663 rows x 195 columns]"
      ]
     },
     "execution_count": 349,
     "metadata": {},
     "output_type": "execute_result"
    }
   ],
   "source": [
    "year_df"
   ]
  },
  {
   "cell_type": "markdown",
   "metadata": {},
   "source": [
    "# Touchdowns "
   ]
  },
  {
   "cell_type": "markdown",
   "metadata": {},
   "source": [
    "Player with highest number of touchdowns "
   ]
  },
  {
   "cell_type": "code",
   "execution_count": 350,
   "metadata": {},
   "outputs": [
    {
     "name": "stdout",
     "output_type": "stream",
     "text": [
      "Player with the most touchdowns: tom brady with 383.0 touchdowns.\n"
     ]
    }
   ],
   "source": [
    "# First, make sure you replace NaN values in the touchdown columns with 0, to ensure accurate summation\n",
    "year_df.fillna({'pass_td': 0, 'reception_td': 0, 'run_td': 0}, inplace=True)\n",
    "\n",
    "# Create a new column for total touchdowns\n",
    "year_df['total_touchdowns'] = year_df['pass_td'] + year_df['reception_td'] + year_df['run_td']\n",
    "\n",
    "# Group by player and sum the total touchdowns\n",
    "touchdowns_per_player = year_df.groupby('player_name')['total_touchdowns'].sum()\n",
    "\n",
    "# Find the player with the highest number of touchdowns\n",
    "max_touchdowns = touchdowns_per_player.idxmax()\n",
    "highest_td_count = touchdowns_per_player.max()\n",
    "\n",
    "print(f\"Player with the most touchdowns: {max_touchdowns} with {highest_td_count} touchdowns.\")\n"
   ]
  },
  {
   "cell_type": "markdown",
   "metadata": {},
   "source": [
    "Highest number of touchdowns 2020 season (rushing or reception, no passing which means no quarterbacks)"
   ]
  },
  {
   "cell_type": "code",
   "execution_count": 351,
   "metadata": {},
   "outputs": [
    {
     "name": "stdout",
     "output_type": "stream",
     "text": [
      "Top 10 players with the most touchdowns in 2020:\n",
      "player_name\n",
      "alvin kamara       21.0\n",
      "dalvin cook        19.0\n",
      "davante adams      19.0\n",
      "tyreek hill        17.0\n",
      "derrick henry      17.0\n",
      "adam thielen       14.0\n",
      "jonathan taylor    13.0\n",
      "cam newton         13.0\n",
      "mike evans         13.0\n",
      "a.j. brown         12.0\n",
      "Name: total_touchdowns, dtype: float64\n"
     ]
    }
   ],
   "source": [
    "# Filter the data to include only season 2020\n",
    "year_2020_df = year_df[year_df['season'] == 2020].copy()  # Make a copy to avoid the SettingWithCopyWarning\n",
    "\n",
    "# Fill NaN values for touchdowns\n",
    "year_2020_df.fillna({'reception_td': 0, 'run_td': 0}, inplace=True)\n",
    "\n",
    "# Calculate total touchdowns for each player in season 2020\n",
    "year_2020_df.loc[:, 'total_touchdowns'] = year_2020_df['reception_td'] + year_2020_df['run_td']\n",
    "\n",
    "# Group by player name and sum the total touchdowns for 2020\n",
    "touchdowns_per_player_2020 = year_2020_df.groupby('player_name')['total_touchdowns'].sum()\n",
    "\n",
    "# Sort the players by total touchdowns in descending order and select the top 10\n",
    "top_10_touchdown_players_2020 = touchdowns_per_player_2020.sort_values(ascending=False).head(10)\n",
    "\n",
    "# Print the results\n",
    "print(\"Top 10 players with the most touchdowns in 2020:\")\n",
    "print(top_10_touchdown_players_2020)\n"
   ]
  },
  {
   "cell_type": "markdown",
   "metadata": {},
   "source": [
    "Highest number of touchdowns 2021 season (rushing or reception, no passing which means no quarterbacks)"
   ]
  },
  {
   "cell_type": "code",
   "execution_count": 352,
   "metadata": {},
   "outputs": [
    {
     "name": "stdout",
     "output_type": "stream",
     "text": [
      "Top 10 players with the most touchdowns in 2021:\n",
      "player_name\n",
      "austin ekeler      21.0\n",
      "jonathan taylor    20.0\n",
      "james conner       18.0\n",
      "joe mixon          17.0\n",
      "cooper kupp        17.0\n",
      "damien harris      15.0\n",
      "deebo samuel       14.0\n",
      "mike evans         14.0\n",
      "ja'marr chase      14.0\n",
      "ezekiel elliott    12.0\n",
      "Name: total_touchdowns, dtype: float64\n"
     ]
    }
   ],
   "source": [
    "# Filter the data to include only season 2021\n",
    "year_2021_df = year_df[year_df['season'] == 2021].copy()  # Make a copy to avoid the SettingWithCopyWarning\n",
    "\n",
    "# Fill NaN values for touchdowns\n",
    "year_2021_df.fillna({'reception_td': 0, 'run_td': 0}, inplace=True)\n",
    "\n",
    "# Calculate total touchdowns for each player in season 2021\n",
    "year_2021_df.loc[:, 'total_touchdowns'] = year_2021_df['reception_td'] + year_2021_df['run_td']\n",
    "\n",
    "# Group by player name and sum the total touchdowns for 2021\n",
    "touchdowns_per_player_2021 = year_2021_df.groupby('player_name')['total_touchdowns'].sum()\n",
    "\n",
    "# Sort the players by total touchdowns in descending order and select the top 10\n",
    "top_10_touchdown_players_2021 = touchdowns_per_player_2021.sort_values(ascending=False).head(10)\n",
    "\n",
    "# Print the results\n",
    "print(\"Top 10 players with the most touchdowns in 2021:\")\n",
    "print(top_10_touchdown_players_2021)\n"
   ]
  },
  {
   "cell_type": "markdown",
   "metadata": {},
   "source": [
    "Highest number of touchdowns 2022 season (rushing or reception, no passing which means no quarterbacks)"
   ]
  },
  {
   "cell_type": "code",
   "execution_count": 353,
   "metadata": {},
   "outputs": [
    {
     "name": "stdout",
     "output_type": "stream",
     "text": [
      "Top 10 players with the most touchdowns in 2022:\n",
      "player_name\n",
      "austin ekeler          18.0\n",
      "jamaal williams        17.0\n",
      "davante adams          15.0\n",
      "derrick henry          14.0\n",
      "christian mccaffrey    14.0\n",
      "nick chubb             13.0\n",
      "jalen hurts            13.0\n",
      "josh jacobs            12.0\n",
      "ezekiel elliott        12.0\n",
      "tony pollard           12.0\n",
      "Name: total_touchdowns, dtype: float64\n"
     ]
    }
   ],
   "source": [
    "# Filter the data to include only season 2022\n",
    "year_2022_df = year_df[year_df['season'] == 2022].copy()  # Make a copy to avoid the SettingWithCopyWarning\n",
    "\n",
    "# Fill NaN values for touchdowns\n",
    "year_2022_df.fillna({'reception_td': 0, 'run_td': 0}, inplace=True)\n",
    "\n",
    "# Calculate total touchdowns for each player in season 2021\n",
    "year_2022_df.loc[:, 'total_touchdowns'] = year_2022_df['reception_td'] + year_2022_df['run_td']\n",
    "\n",
    "# Group by player name and sum the total touchdowns for 2021\n",
    "touchdowns_per_player_2022 = year_2022_df.groupby('player_name')['total_touchdowns'].sum()\n",
    "\n",
    "# Sort the players by total touchdowns in descending order and select the top 10\n",
    "top_10_touchdown_players_2022 = touchdowns_per_player_2022.sort_values(ascending=False).head(10)\n",
    "\n",
    "# Print the results\n",
    "print(\"Top 10 players with the most touchdowns in 2022:\")\n",
    "print(top_10_touchdown_players_2022)"
   ]
  },
  {
   "cell_type": "markdown",
   "metadata": {},
   "source": [
    "Highest number of touchdowns 2023 season (rushing or reception, no passing which means no quarterbacks)"
   ]
  },
  {
   "cell_type": "code",
   "execution_count": 354,
   "metadata": {},
   "outputs": [
    {
     "name": "stdout",
     "output_type": "stream",
     "text": [
      "Top 10 players with the most touchdowns in 2023:\n",
      "player_name\n",
      "christian mccaffrey    22.0\n",
      "raheem mostert         21.0\n",
      "jalen hurts            15.0\n",
      "josh allen             15.0\n",
      "kyren williams         15.0\n",
      "tyreek hill            14.0\n",
      "ceedee lamb            14.0\n",
      "david montgomery       13.0\n",
      "mike evans             13.0\n",
      "gus edwards            13.0\n",
      "Name: total_touchdowns, dtype: float64\n"
     ]
    }
   ],
   "source": [
    "# Filter the data to include only season 2023\n",
    "year_2023_df = year_df[year_df['season'] == 2023].copy()  # Make a copy to avoid the SettingWithCopyWarning\n",
    "\n",
    "# Fill NaN values for touchdowns\n",
    "year_2023_df.fillna({'reception_td': 0, 'run_td': 0}, inplace=True)\n",
    "\n",
    "# Calculate total touchdowns for each player in season 2021\n",
    "year_2023_df.loc[:, 'total_touchdowns'] = year_2023_df['reception_td'] + year_2023_df['run_td']\n",
    "\n",
    "# Group by player name and sum the total touchdowns for 2021\n",
    "touchdowns_per_player_2023 = year_2023_df.groupby('player_name')['total_touchdowns'].sum()\n",
    "\n",
    "# Sort the players by total touchdowns in descending order and select the top 10\n",
    "top_10_touchdown_players_2023 = touchdowns_per_player_2023.sort_values(ascending=False).head(10)\n",
    "\n",
    "# Print the results\n",
    "print(\"Top 10 players with the most touchdowns in 2023:\")\n",
    "print(top_10_touchdown_players_2023)"
   ]
  },
  {
   "cell_type": "markdown",
   "metadata": {},
   "source": [
    "Player in top 10 all 4 years"
   ]
  },
  {
   "cell_type": "code",
   "execution_count": 355,
   "metadata": {},
   "outputs": [
    {
     "name": "stdout",
     "output_type": "stream",
     "text": [
      "List of players in the top 10 for touchdowns in all four years (2020-2023):\n",
      "[]\n"
     ]
    }
   ],
   "source": [
    "# Convert the player names from each year's top 10 list to sets\n",
    "top_10_touchdown_players_2020 = set(top_10_touchdown_players_2020.index)\n",
    "top_10_touchdown_players_2021 = set(top_10_touchdown_players_2021.index)\n",
    "top_10_touchdown_players_2022 = set(top_10_touchdown_players_2022.index)\n",
    "top_10_touchdown_players_2023 = set(top_10_touchdown_players_2023.index)\n",
    "\n",
    "# Find the intersection of all four sets\n",
    "consistent_top_10_players = top_10_touchdown_players_2020 & top_10_touchdown_players_2021 & top_10_touchdown_players_2022 & top_10_touchdown_players_2023\n",
    "\n",
    "# Convert the result to a list\n",
    "consistent_top_10_players_list = list(consistent_top_10_players)\n",
    "\n",
    "# Print the list\n",
    "print(\"List of players in the top 10 for touchdowns in all four years (2020-2023):\")\n",
    "print(consistent_top_10_players_list)\n"
   ]
  },
  {
   "cell_type": "markdown",
   "metadata": {},
   "source": [
    "List of players that have appeared in the top 10 at least twice in the last four years"
   ]
  },
  {
   "cell_type": "code",
   "execution_count": 356,
   "metadata": {},
   "outputs": [
    {
     "name": "stdout",
     "output_type": "stream",
     "text": [
      "Players in the top 10 for touchdowns in at least two of the four years (2020-2023):\n",
      "davante adams: 2 appearances\n",
      "derrick henry: 2 appearances\n",
      "mike evans: 3 appearances\n",
      "tyreek hill: 2 appearances\n",
      "jonathan taylor: 2 appearances\n",
      "ezekiel elliott: 2 appearances\n",
      "austin ekeler: 2 appearances\n",
      "jalen hurts: 2 appearances\n",
      "christian mccaffrey: 2 appearances\n"
     ]
    }
   ],
   "source": [
    "from collections import Counter\n",
    "\n",
    "# Assume the top 10 players for each year are sets already\n",
    "top_10_touchdown_players_2020 = set(top_10_touchdown_players_2020)\n",
    "top_10_touchdown_players_2021 = set(top_10_touchdown_players_2021)\n",
    "top_10_touchdown_players_2022 = set(top_10_touchdown_players_2022)\n",
    "top_10_touchdown_players_2023 = set(top_10_touchdown_players_2023)\n",
    "\n",
    "# Combine all players into a single list\n",
    "all_top_10_players = list(top_10_touchdown_players_2020) + \\\n",
    "                     list(top_10_touchdown_players_2021) + \\\n",
    "                     list(top_10_touchdown_players_2022) + \\\n",
    "                     list(top_10_touchdown_players_2023)\n",
    "\n",
    "# Count the occurrences of each player\n",
    "player_counts = Counter(all_top_10_players)\n",
    "\n",
    "# Filter players who appeared at least twice\n",
    "consistent_top_10_players = {player: count for player, count in player_counts.items() if count >= 2}\n",
    "\n",
    "# Print the results\n",
    "print(\"Players in the top 10 for touchdowns in at least two of the four years (2020-2023):\")\n",
    "for player, count in consistent_top_10_players.items():\n",
    "    print(f\"{player}: {count} appearances\")\n"
   ]
  },
  {
   "cell_type": "code",
   "execution_count": 357,
   "metadata": {},
   "outputs": [
    {
     "name": "stdout",
     "output_type": "stream",
     "text": [
      "['alvin kamara', 'davante adams', 'a.j. brown', 'adam thielen', 'derrick henry', 'mike evans', 'cam newton', 'dalvin cook', 'tyreek hill', 'jonathan taylor', 'joe mixon', 'ezekiel elliott', 'james conner', \"ja'marr chase\", 'cooper kupp', 'mike evans', 'deebo samuel', 'damien harris', 'austin ekeler', 'jonathan taylor', 'jamaal williams', 'josh jacobs', 'davante adams', 'ezekiel elliott', 'tony pollard', 'jalen hurts', 'derrick henry', 'nick chubb', 'christian mccaffrey', 'austin ekeler', 'raheem mostert', 'jalen hurts', 'tyreek hill', 'josh allen', 'mike evans', 'david montgomery', 'christian mccaffrey', 'kyren williams', 'gus edwards', 'ceedee lamb']\n"
     ]
    }
   ],
   "source": [
    "print(all_top_10_players)"
   ]
  },
  {
   "cell_type": "code",
   "execution_count": 358,
   "metadata": {},
   "outputs": [
    {
     "name": "stdout",
     "output_type": "stream",
     "text": [
      "{'davante adams': 2, 'derrick henry': 2, 'mike evans': 3, 'tyreek hill': 2, 'jonathan taylor': 2, 'ezekiel elliott': 2, 'austin ekeler': 2, 'jalen hurts': 2, 'christian mccaffrey': 2}\n"
     ]
    }
   ],
   "source": [
    "print(consistent_top_10_players)"
   ]
  },
  {
   "cell_type": "code",
   "execution_count": 359,
   "metadata": {},
   "outputs": [
    {
     "name": "stderr",
     "output_type": "stream",
     "text": [
      "/var/folders/z5/9p6mflxn16bfxvds_w7ffs5m0000gn/T/ipykernel_2658/3223318655.py:21: FutureWarning: \n",
      "\n",
      "Passing `palette` without assigning `hue` is deprecated and will be removed in v0.14.0. Assign the `y` variable to `hue` and set `legend=False` for the same effect.\n",
      "\n",
      "  sns.barplot(x='Appearances', y='Player', data=data, palette='viridis')\n"
     ]
    },
    {
     "data": {
      "image/png": "[encoded data removed]",
      "text/plain": [
       "<Figure size 1000x600 with 1 Axes>"
      ]
     },
     "metadata": {},
     "output_type": "display_data"
    }
   ],
   "source": [
    "import matplotlib.pyplot as plt\n",
    "import seaborn as sns\n",
    "\n",
    "# Assuming 'consistent_top_10_players' is the dictionary with player names and their counts\n",
    "\n",
    "# Prepare the data (Player names and counts)\n",
    "players = list(consistent_top_10_players.keys())\n",
    "counts = list(consistent_top_10_players.values())\n",
    "\n",
    "# Create a DataFrame for easy plotting\n",
    "import pandas as pd\n",
    "data = pd.DataFrame({\n",
    "    'Player': players,\n",
    "    'Appearances': counts\n",
    "})\n",
    "\n",
    "# Set the size of the plot\n",
    "plt.figure(figsize=(10, 6))\n",
    "\n",
    "# Create a bar plot\n",
    "sns.barplot(x='Appearances', y='Player', data=data, palette='viridis')\n",
    "\n",
    "# Add title and labels\n",
    "plt.title('Players in the Top 10 for Touchdowns in at Least Two of the Four Years (2020-2023)', fontsize=14)\n",
    "plt.xlabel('Number of Appearances', fontsize=12)\n",
    "plt.ylabel('Player Name', fontsize=12)\n",
    "\n",
    "# Show the plot\n",
    "plt.show()\n"
   ]
  },
  {
   "cell_type": "markdown",
   "metadata": {},
   "source": [
    "Total Touchdowns "
   ]
  },
  {
   "cell_type": "code",
   "execution_count": 360,
   "metadata": {},
   "outputs": [
    {
     "name": "stdout",
     "output_type": "stream",
     "text": [
      "Top 10 players with the most touchdowns:\n",
      "           player_name  total_tds\n",
      "4390    peyton manning       58.0\n",
      "4348   patrick mahomes       54.0\n",
      "50       aaron rodgers       52.0\n",
      "268        andrew luck       48.0\n",
      "1880        drew brees       47.0\n",
      "5202         tom brady       47.0\n",
      "3032        josh allen       46.0\n",
      "3954  matthew stafford       45.0\n",
      "5201         tom brady       45.0\n",
      "805         cam newton       45.0\n"
     ]
    }
   ],
   "source": [
    "# Sort the DataFrame by 'total_tds' in descending order and select the top 10\n",
    "top_10_touchdown_players = year_df.sort_values(by='total_tds', ascending=False).head(10)\n",
    "\n",
    "# Print the results\n",
    "print(\"Top 10 players with the most touchdowns:\")\n",
    "print(top_10_touchdown_players[['player_name', 'total_tds']])\n"
   ]
  },
  {
   "cell_type": "markdown",
   "metadata": {},
   "source": [
    "Total Touchdowns for the top 10 players that have appeared at least twice in the top ten the last 4 seasons 2020-2023 "
   ]
  },
  {
   "cell_type": "code",
   "execution_count": 361,
   "metadata": {},
   "outputs": [
    {
     "name": "stdout",
     "output_type": "stream",
     "text": [
      "austin ekeler: 49.0 total touchdowns\n",
      "christian mccaffrey: 44.0 total touchdowns\n",
      "davante adams: 54.0 total touchdowns\n",
      "derrick henry: 53.0 total touchdowns\n",
      "ezekiel elliott: 39.0 total touchdowns\n",
      "jalen hurts: 41.0 total touchdowns\n",
      "jonathan taylor: 45.0 total touchdowns\n",
      "mike evans: 46.0 total touchdowns\n",
      "tyreek hill: 49.0 total touchdowns\n"
     ]
    }
   ],
   "source": [
    "# List of players to calculate total touchdowns\n",
    "players = {'davante adams': 2, 'derrick henry': 2, 'mike evans': 3, 'tyreek hill': 2, \n",
    "           'jonathan taylor': 2, 'ezekiel elliott': 2, 'austin ekeler': 2, 'jalen hurts': 2, \n",
    "           'christian mccaffrey': 2}\n",
    "\n",
    "# Initialize a dictionary to store the total touchdowns for each player\n",
    "total_touchdowns_dict = {}\n",
    "\n",
    "# Loop over each season (2020 to 2024)\n",
    "for year in range(2020, 2025):\n",
    "    # Filter the data to include only the current season and relevant players\n",
    "    year_df_filtered = year_df[(year_df['season'] == year) & (year_df['player_name'].isin(players.keys()))].copy()\n",
    "    \n",
    "    # Fill NaN values for touchdowns\n",
    "    year_df_filtered.fillna({'reception_td': 0, 'run_td': 0}, inplace=True)\n",
    "\n",
    "    # Calculate total touchdowns for each player\n",
    "    year_df_filtered['total_touchdowns'] = year_df_filtered['reception_td'] + year_df_filtered['run_td']\n",
    "\n",
    "    # Group by player name and sum the total touchdowns for the current year\n",
    "    touchdowns_per_player = year_df_filtered.groupby('player_name')['total_touchdowns'].sum()\n",
    "\n",
    "    # Add the yearly total touchdowns to the dictionary (adding over multiple years)\n",
    "    for player, touchdowns in touchdowns_per_player.items():\n",
    "        if player in total_touchdowns_dict:\n",
    "            total_touchdowns_dict[player] += touchdowns\n",
    "        else:\n",
    "            total_touchdowns_dict[player] = touchdowns\n",
    "\n",
    "# Print the total touchdowns for each player across the seasons 2020-2024\n",
    "for player, touchdowns in total_touchdowns_dict.items():\n",
    "    print(f\"{player}: {touchdowns} total touchdowns\")"
   ]
  },
  {
   "cell_type": "code",
   "execution_count": 362,
   "metadata": {},
   "outputs": [
    {
     "data": {
      "image/png": "[encoded data removed]",
      "text/plain": [
       "<Figure size 1000x600 with 1 Axes>"
      ]
     },
     "metadata": {},
     "output_type": "display_data"
    }
   ],
   "source": [
    "import matplotlib.pyplot as plt\n",
    "\n",
    "# Data (Example data, replace with your actual data from `total_touchdowns_dict`)\n",
    "players = list(total_touchdowns_dict.keys())\n",
    "touchdowns = list(total_touchdowns_dict.values())\n",
    "\n",
    "# Generate distinct colors for each player\n",
    "colors = plt.cm.Paired.colors[:len(players)]  # Using 'Paired' colormap for distinct colors\n",
    "\n",
    "# Create the bar chart\n",
    "plt.figure(figsize=(10, 6))\n",
    "bars = plt.bar(players, touchdowns, color=colors)\n",
    "\n",
    "# Add title and labels\n",
    "plt.title('Total Touchdowns per Player (2020-2024)', fontsize=14)\n",
    "plt.xlabel('Player', fontsize=12)\n",
    "plt.ylabel('Total Touchdowns', fontsize=12)\n",
    "plt.xticks(rotation=45, ha='right')\n",
    "\n",
    "# Set y-axis ticks in intervals of 5\n",
    "plt.yticks(range(0, int(max(touchdowns)) + 10, 10))\n",
    "\n",
    "# Add the number of touchdowns above each bar\n",
    "for bar in bars:\n",
    "    height = bar.get_height()\n",
    "    plt.text(bar.get_x() + bar.get_width() / 2, height, str(height), ha='center', va='bottom', fontsize=10)\n",
    "\n",
    "# Display the plot\n",
    "plt.tight_layout()\n",
    "plt.show()\n"
   ]
  },
  {
   "cell_type": "markdown",
   "metadata": {},
   "source": [
    "# Receptions"
   ]
  },
  {
   "cell_type": "markdown",
   "metadata": {},
   "source": [
    "Top 10 players with the most receptions in 2020"
   ]
  },
  {
   "cell_type": "code",
   "execution_count": 363,
   "metadata": {},
   "outputs": [
    {
     "name": "stdout",
     "output_type": "stream",
     "text": [
      "Top 10 players with the most receptions in 2020:\n",
      "stefon diggs: 127.0 receptions\n",
      "davante adams: 115.0 receptions\n",
      "deandre hopkins: 115.0 receptions\n",
      "darren waller: 107.0 receptions\n",
      "travis kelce: 105.0 receptions\n",
      "allen robinson: 102.0 receptions\n",
      "tyler lockett: 100.0 receptions\n",
      "keenan allen: 100.0 receptions\n",
      "juju smith-schuster: 97.0 receptions\n",
      "cooper kupp: 92.0 receptions\n"
     ]
    }
   ],
   "source": [
    "# Filter the data to include only season 2020\n",
    "year_2020_df = year_df[year_df['season'] == 2020].copy()\n",
    "\n",
    "# Fill NaN values for receptions\n",
    "year_2020_df.fillna({'receptions': 0}, inplace=True)\n",
    "\n",
    "# Calculate total receptions for each player in season 2020\n",
    "year_2020_df.loc[:, 'total_receptions'] = year_2020_df['receptions']\n",
    "\n",
    "# Group by player name and sum the total receptions\n",
    "receptions_per_player_2020 = year_2020_df.groupby('player_name')['total_receptions'].sum()\n",
    "\n",
    "# Sort the players by total receptions in descending order and select the top 10\n",
    "top_10_receptions_players_2020 = receptions_per_player_2020.sort_values(ascending=False).head(10)\n",
    "\n",
    "# Print the results\n",
    "print(\"Top 10 players with the most receptions in 2020:\")\n",
    "for player, receptions in top_10_receptions_players_2020.items():\n",
    "    print(f\"{player}: {receptions} receptions\")\n"
   ]
  },
  {
   "cell_type": "markdown",
   "metadata": {},
   "source": [
    "Top 10 players with the most receptions in 2021\n"
   ]
  },
  {
   "cell_type": "code",
   "execution_count": 364,
   "metadata": {},
   "outputs": [
    {
     "name": "stdout",
     "output_type": "stream",
     "text": [
      "Top 10 players with the most receptions in 2021:\n",
      "cooper kupp: 145.0 receptions\n",
      "davante adams: 123.0 receptions\n",
      "tyreek hill: 111.0 receptions\n",
      "justin jefferson: 108.0 receptions\n",
      "mark andrews: 107.0 receptions\n",
      "diontae johnson: 107.0 receptions\n",
      "keenan allen: 106.0 receptions\n",
      "jaylen waddle: 104.0 receptions\n",
      "hunter renfrow: 103.0 receptions\n",
      "stefon diggs: 103.0 receptions\n"
     ]
    }
   ],
   "source": [
    "# Filter the data to include only season 2020\n",
    "year_2021_df = year_df[year_df['season'] == 2021].copy()\n",
    "\n",
    "# Fill NaN values for receptions\n",
    "year_2021_df.fillna({'receptions': 0}, inplace=True)\n",
    "\n",
    "# Calculate total receptions for each player in season 2020\n",
    "year_2021_df.loc[:, 'total_receptions'] = year_2021_df['receptions']\n",
    "\n",
    "# Group by player name and sum the total receptions\n",
    "receptions_per_player_2021 = year_2021_df.groupby('player_name')['total_receptions'].sum()\n",
    "\n",
    "# Sort the players by total receptions in descending order and select the top 10\n",
    "top_10_receptions_players_2021 = receptions_per_player_2021.sort_values(ascending=False).head(10)\n",
    "\n",
    "# Print the results\n",
    "print(\"Top 10 players with the most receptions in 2021:\")\n",
    "for player, receptions in top_10_receptions_players_2021.items():\n",
    "    print(f\"{player}: {receptions} receptions\")\n"
   ]
  },
  {
   "cell_type": "markdown",
   "metadata": {},
   "source": [
    "Top 10 players with the most receptions in 2022"
   ]
  },
  {
   "cell_type": "code",
   "execution_count": 365,
   "metadata": {},
   "outputs": [
    {
     "name": "stdout",
     "output_type": "stream",
     "text": [
      "Top 10 players with the most receptions in 2022:\n",
      "justin jefferson: 128.0 receptions\n",
      "tyreek hill: 119.0 receptions\n",
      "travis kelce: 110.0 receptions\n",
      "stefon diggs: 108.0 receptions\n",
      "austin ekeler: 107.0 receptions\n",
      "ceedee lamb: 107.0 receptions\n",
      "amon-ra st. brown: 106.0 receptions\n",
      "chris godwin: 104.0 receptions\n",
      "davante adams: 100.0 receptions\n",
      "michael pittman: 99.0 receptions\n"
     ]
    }
   ],
   "source": [
    "# Filter the data to include only season 2022\n",
    "year_2022_df = year_df[year_df['season'] == 2022].copy()\n",
    "\n",
    "# Fill NaN values for receptions\n",
    "year_2022_df.fillna({'receptions': 0}, inplace=True)\n",
    "\n",
    "# Calculate total receptions for each player in season 2020\n",
    "year_2022_df.loc[:, 'total_receptions'] = year_2022_df['receptions']\n",
    "\n",
    "# Group by player name and sum the total receptions\n",
    "receptions_per_player_2022 = year_2022_df.groupby('player_name')['total_receptions'].sum()\n",
    "\n",
    "# Sort the players by total receptions in descending order and select the top 10\n",
    "top_10_receptions_players_2022 = receptions_per_player_2022.sort_values(ascending=False).head(10)\n",
    "\n",
    "# Print the results\n",
    "print(\"Top 10 players with the most receptions in 2022:\")\n",
    "for player, receptions in top_10_receptions_players_2022.items():\n",
    "    print(f\"{player}: {receptions} receptions\")\n"
   ]
  },
  {
   "cell_type": "markdown",
   "metadata": {},
   "source": [
    "Top 10 players with the most receptions in 2023\n"
   ]
  },
  {
   "cell_type": "code",
   "execution_count": 366,
   "metadata": {},
   "outputs": [
    {
     "name": "stdout",
     "output_type": "stream",
     "text": [
      "Top 10 players with the most receptions in 2023:\n",
      "ceedee lamb: 135.0 receptions\n",
      "amon-ra st. brown: 119.0 receptions\n",
      "tyreek hill: 119.0 receptions\n",
      "evan engram: 114.0 receptions\n",
      "michael pittman: 109.0 receptions\n",
      "keenan allen: 108.0 receptions\n",
      "stefon diggs: 107.0 receptions\n",
      "a.j. brown: 106.0 receptions\n",
      "puka nacua: 105.0 receptions\n",
      "davante adams: 103.0 receptions\n"
     ]
    }
   ],
   "source": [
    "# Filter the data to include only season 20203\n",
    "year_2023_df = year_df[year_df['season'] == 2023].copy()\n",
    "\n",
    "# Fill NaN values for receptions\n",
    "year_2023_df.fillna({'receptions': 0}, inplace=True)\n",
    "\n",
    "# Calculate total receptions for each player in season 2023\n",
    "year_2023_df.loc[:, 'total_receptions'] = year_2023_df['receptions']\n",
    "\n",
    "# Group by player name and sum the total receptions\n",
    "receptions_per_player_2023 = year_2023_df.groupby('player_name')['total_receptions'].sum()\n",
    "\n",
    "# Sort the players by total receptions in descending order and select the top 10\n",
    "top_10_receptions_players_2023 = receptions_per_player_2023.sort_values(ascending=False).head(10)\n",
    "\n",
    "# Print the results\n",
    "print(\"Top 10 players with the most receptions in 2023:\")\n",
    "for player, receptions in top_10_receptions_players_2023.items():\n",
    "    print(f\"{player}: {receptions} receptions\")\n"
   ]
  },
  {
   "cell_type": "markdown",
   "metadata": {},
   "source": [
    "Player in top 10 seasons 2020-2023"
   ]
  },
  {
   "cell_type": "code",
   "execution_count": 367,
   "metadata": {},
   "outputs": [
    {
     "name": "stdout",
     "output_type": "stream",
     "text": [
      "List of players in the top 10 for receptions in all four years (2020-2023):\n",
      "['stefon diggs', 'davante adams']\n"
     ]
    }
   ],
   "source": [
    "# Convert the player names from each year's top 10 list to sets\n",
    "top_10_receptions_players_2020 = set(top_10_receptions_players_2020.index)\n",
    "top_10_receptions_players_2021 = set(top_10_receptions_players_2021.index)\n",
    "top_10_receptions_players_2022 = set(top_10_receptions_players_2022.index)\n",
    "top_10_receptions_players_2023 = set(top_10_receptions_players_2023.index)\n",
    "\n",
    "# Find the intersection of all four sets\n",
    "consistent_top_10_receptions_players = top_10_receptions_players_2020 & top_10_receptions_players_2021 & top_10_receptions_players_2022 & top_10_receptions_players_2023\n",
    "\n",
    "# Convert the result to a list\n",
    "consistent_top_10_receptions_players_list = list(consistent_top_10_receptions_players)\n",
    "\n",
    "# Print the list\n",
    "print(\"List of players in the top 10 for receptions in all four years (2020-2023):\")\n",
    "print(consistent_top_10_receptions_players_list)\n"
   ]
  },
  {
   "cell_type": "markdown",
   "metadata": {},
   "source": [
    "List of players that have appeared in the top 10 at least twice in the last four years"
   ]
  },
  {
   "cell_type": "code",
   "execution_count": 368,
   "metadata": {},
   "outputs": [
    {
     "name": "stdout",
     "output_type": "stream",
     "text": [
      "Players in the top 10 for receptions in at least two of the four years (2020-2023):\n",
      "davante adams: 4 appearances\n",
      "cooper kupp: 2 appearances\n",
      "stefon diggs: 4 appearances\n",
      "keenan allen: 3 appearances\n",
      "travis kelce: 2 appearances\n",
      "justin jefferson: 2 appearances\n",
      "tyreek hill: 3 appearances\n",
      "michael pittman: 2 appearances\n",
      "amon-ra st. brown: 2 appearances\n",
      "ceedee lamb: 2 appearances\n"
     ]
    }
   ],
   "source": [
    "from collections import Counter\n",
    "\n",
    "# Assume the top 10 players for each year are sets already\n",
    "top_10_receptions_players_2020 = set(top_10_receptions_players_2020)\n",
    "top_10_receptions_players_2021 = set(top_10_receptions_players_2021)\n",
    "top_10_receptions_players_2022 = set(top_10_receptions_players_2022)\n",
    "top_10_receptions_players_2023 = set(top_10_receptions_players_2023)\n",
    "\n",
    "# Combine all players into a single list\n",
    "all_top_10_receptions_players = list(top_10_receptions_players_2020) + \\\n",
    "                     list(top_10_receptions_players_2021) + \\\n",
    "                     list(top_10_receptions_players_2022) + \\\n",
    "                     list(top_10_receptions_players_2023)\n",
    "\n",
    "# Count the occurrences of each player\n",
    "player_counts_receptions = Counter(all_top_10_receptions_players)\n",
    "\n",
    "# Filter players who appeared at least twice\n",
    "consistent_top_10_reception_players = {player: count for player, count in player_counts_receptions.items() if count >= 2}\n",
    "\n",
    "# Print the results\n",
    "print(\"Players in the top 10 for receptions in at least two of the four years (2020-2023):\")\n",
    "for player, count in consistent_top_10_reception_players.items():\n",
    "    print(f\"{player}: {count} appearances\")\n"
   ]
  },
  {
   "cell_type": "code",
   "execution_count": 369,
   "metadata": {},
   "outputs": [
    {
     "name": "stdout",
     "output_type": "stream",
     "text": [
      "{'davante adams': 4, 'cooper kupp': 2, 'stefon diggs': 4, 'keenan allen': 3, 'travis kelce': 2, 'justin jefferson': 2, 'tyreek hill': 3, 'michael pittman': 2, 'amon-ra st. brown': 2, 'ceedee lamb': 2}\n"
     ]
    }
   ],
   "source": [
    "print(consistent_top_10_reception_players)"
   ]
  },
  {
   "cell_type": "code",
   "execution_count": 371,
   "metadata": {},
   "outputs": [
    {
     "name": "stdout",
     "output_type": "stream",
     "text": [
      "ceedee lamb: 395.0 total receptions\n",
      "cooper kupp: 371.0 total receptions\n",
      "davante adams: 441.0 total receptions\n",
      "justin jefferson: 392.0 total receptions\n",
      "keenan allen: 380.0 total receptions\n",
      "michael pittman: 336.0 total receptions\n",
      "stefon diggs: 445.0 total receptions\n",
      "travis kelce: 400.0 total receptions\n",
      "tyreek hill: 436.0 total receptions\n",
      "amon-ra st. brown: 315.0 total receptions\n"
     ]
    }
   ],
   "source": [
    "# List of players to calculate total touchdowns\n",
    "consistent_top_10_reception_players = list(consistent_top_10_reception_players)\n",
    "\n",
    "# Initialize a dictionary to store the total touchdowns for each player\n",
    "total_reception_dict = {}\n",
    "\n",
    "# Loop over each season (2020 to 2024)\n",
    "for year in range(2020, 2025):\n",
    "    # Filter the data to include only the current season and relevant players\n",
    "    year_df_filtered = year_df[(year_df['season'] == year) & (year_df['player_name'].isin(consistent_top_10_reception_players))].copy()\n",
    "    \n",
    "    # Fill NaN values for receptions\n",
    "    year_df_filtered.fillna({'receptions': 0}, inplace=True)\n",
    "\n",
    "    # Calculate total receptions for each player\n",
    "    year_df_filtered.loc[:, 'total_receptions'] = year_df_filtered['receptions']\n",
    "\n",
    "    # Group by player name and sum the total touchdowns for the current year\n",
    "    receptions_per_player = year_df_filtered.groupby('player_name')['total_receptions'].sum()\n",
    "\n",
    "    # Add the yearly total receptions to the dictionary (adding over multiple years)\n",
    "    for player, total_receptions in receptions_per_player.items():\n",
    "        if player in total_reception_dict:\n",
    "            total_reception_dict[player] += total_receptions\n",
    "        else:\n",
    "            total_reception_dict[player] = total_receptions\n",
    "\n",
    "# Print the total touchdowns for each player across the seasons 2020-2024\n",
    "for player, total_receptions in total_reception_dict.items():\n",
    "    print(f\"{player}: {total_receptions} total receptions\")"
   ]
  },
  {
   "cell_type": "code",
   "execution_count": 381,
   "metadata": {},
   "outputs": [
    {
     "data": {
      "image/png": "[encoded data removed]",
      "text/plain": [
       "<Figure size 1000x600 with 1 Axes>"
      ]
     },
     "metadata": {},
     "output_type": "display_data"
    }
   ],
   "source": [
    "import matplotlib.pyplot as plt\n",
    "\n",
    "# Data (Example data, replace with your actual data from `total_touchdowns_dict`)\n",
    "players = list(total_reception_dict.keys())\n",
    "total_receptions = list(total_reception_dict.values())\n",
    "\n",
    "# Generate distinct colors for each player\n",
    "colors = plt.cm.Paired.colors[:len(players)]  # Using 'Paired' colormap for distinct colors\n",
    "\n",
    "# Create the bar chart\n",
    "plt.figure(figsize=(10, 6))\n",
    "bars = plt.bar(players, total_receptions, color=colors)\n",
    "\n",
    "# Add title and labels\n",
    "plt.title('Total Receptions per Player (2020-2024)', fontsize=14)\n",
    "plt.xlabel('Player', fontsize=12)\n",
    "plt.ylabel('Total Touchdowns', fontsize=12)\n",
    "plt.xticks(rotation=45, ha='right')\n",
    "\n",
    "# Set y-axis ticks in intervals of 5\n",
    "plt.yticks(range(0, int(max(total_receptions)) + 150, 150))\n",
    "\n",
    "# Add the number of touchdowns above each bar\n",
    "for bar in bars:\n",
    "    height = bar.get_height()\n",
    "    plt.text(bar.get_x() + bar.get_width() / 2, height, str(height), ha='center', va='bottom', fontsize=10)\n",
    "\n",
    "# Display the plot\n",
    "plt.tight_layout()\n",
    "plt.show()\n"
   ]
  },
  {
   "cell_type": "markdown",
   "metadata": {},
   "source": [
    "# Predictions 2024 "
   ]
  },
  {
   "cell_type": "markdown",
   "metadata": {},
   "source": [
    "Overview of the Dataset "
   ]
  },
  {
   "cell_type": "code",
   "execution_count": null,
   "metadata": {},
   "outputs": [
    {
     "name": "stdout",
     "output_type": "stream",
     "text": [
      "Dataset Shape: (176, 35)\n",
      "  team   player_id   player_name position  depth  draft_year  draft_round  \\\n",
      "0  BUF  00-0034857    Josh Allen       QB      1        2018            1   \n",
      "1  DAL  00-0036358   CeeDee Lamb       WR      1        2020            1   \n",
      "2  DAL  00-0033077  Dak Prescott       QB      1        2016            4   \n",
      "3  MIA  00-0033040   Tyreek Hill       WR      1        2016            5   \n",
      "4  PHI  00-0036389   Jalen Hurts       QB      1        2020            2   \n",
      "\n",
      "   draft_pick  draft_ovr  height  ...  fantasy_points_ppr  \\\n",
      "0           7          7      77  ...              374.48   \n",
      "1          17         17      74  ...              373.00   \n",
      "2          37        135      74  ...              368.36   \n",
      "3          28        165      70  ...              365.90   \n",
      "4          21         53      73  ...              357.16   \n",
      "\n",
      "  position_fantasy_rank  total_fantasy_rank  pass_attempts  complete_pass  \\\n",
      "0                     1                   1            522            322   \n",
      "1                     1                   2              0              0   \n",
      "2                     2                   3            611            391   \n",
      "3                     2                   4              0              0   \n",
      "4                     3                   5            501            303   \n",
      "\n",
      "   incomplete_pass  passing_yards  passing_air_yards  interception  pass_td  \n",
      "0              150           3537               3817            11       25  \n",
      "1                0              0                  0             0        0  \n",
      "2              161           3949               4334             6       29  \n",
      "3                0              0                  0             0        0  \n",
      "4              143           3174               3520             8       20  \n",
      "\n",
      "[5 rows x 35 columns]\n",
      "    team   player_id   player_name position  depth  draft_year  draft_round  \\\n",
      "171  IND  00-0033217   Mo Alie-Cox       TE      1        2017            8   \n",
      "172  JAX  00-0036887  Luke Farrell       TE      1        2021            5   \n",
      "173  CAR  00-0034365    Ian Thomas       TE      1        2018            4   \n",
      "174  LAC  00-0036158  J.K. Dobbins       RB      2        2020            2   \n",
      "175  DEN  00-0037252  Greg Dulcich       TE      1        2022            3   \n",
      "\n",
      "     draft_pick  draft_ovr  height  ...  fantasy_points_ppr  \\\n",
      "171          48        263      77  ...                32.0   \n",
      "172           1        145      77  ...                31.5   \n",
      "173           1        101      76  ...                12.3   \n",
      "174          23         55      70  ...                 6.2   \n",
      "175          16         80      76  ...                 3.9   \n",
      "\n",
      "    position_fantasy_rank  total_fantasy_rank  pass_attempts  complete_pass  \\\n",
      "171                    33                 172              0              0   \n",
      "172                    34                 173              0              0   \n",
      "173                    35                 174              0              0   \n",
      "174                    40                 175              0              0   \n",
      "175                    36                 176              0              0   \n",
      "\n",
      "     incomplete_pass  passing_yards  passing_air_yards  interception  pass_td  \n",
      "171                0              0                  0             0        0  \n",
      "172                0              0                  0             0        0  \n",
      "173                0              0                  0             0        0  \n",
      "174                0              0                  0             0        0  \n",
      "175                0              0                  0             0        0  \n",
      "\n",
      "[5 rows x 35 columns]\n",
      "Index(['team', 'player_id', 'player_name', 'position', 'depth', 'draft_year',\n",
      "       'draft_round', 'draft_pick', 'draft_ovr', 'height', 'weight', 'college',\n",
      "       'age', 'seasons_played', 'rush_attempts', 'rushing_yards', 'touches',\n",
      "       'receptions', 'targets', 'receiving_yards', 'yards_after_catch',\n",
      "       'total_yards', 'total_tds', 'run_td', 'reception_td',\n",
      "       'fantasy_points_ppr', 'position_fantasy_rank', 'total_fantasy_rank',\n",
      "       'pass_attempts', 'complete_pass', 'incomplete_pass', 'passing_yards',\n",
      "       'passing_air_yards', 'interception', 'pass_td'],\n",
      "      dtype='object')\n",
      "team                      object\n",
      "player_id                 object\n",
      "player_name               object\n",
      "position                  object\n",
      "depth                      int64\n",
      "draft_year                 int64\n",
      "draft_round                int64\n",
      "draft_pick                 int64\n",
      "draft_ovr                  int64\n",
      "height                     int64\n",
      "weight                     int64\n",
      "college                   object\n",
      "age                        int64\n",
      "seasons_played             int64\n",
      "rush_attempts              int64\n",
      "rushing_yards              int64\n",
      "touches                    int64\n",
      "receptions                 int64\n",
      "targets                    int64\n",
      "receiving_yards            int64\n",
      "yards_after_catch          int64\n",
      "total_yards                int64\n",
      "total_tds                  int64\n",
      "run_td                     int64\n",
      "reception_td               int64\n",
      "fantasy_points_ppr       float64\n",
      "position_fantasy_rank      int64\n",
      "total_fantasy_rank         int64\n",
      "pass_attempts              int64\n",
      "complete_pass              int64\n",
      "incomplete_pass            int64\n",
      "passing_yards              int64\n",
      "passing_air_yards          int64\n",
      "interception               int64\n",
      "pass_td                    int64\n",
      "dtype: object\n"
     ]
    }
   ],
   "source": [
    "import pandas as pd\n",
    "\n",
    "# Check the shape\n",
    "print(\"Dataset Shape:\", pred_df.shape)\n",
    "\n",
    "print(pred_df.head())\n",
    "\n",
    "print(pred_df.tail())\n",
    "\n",
    "# List the column names\n",
    "print(pred_df.columns)\n",
    "\n",
    "# Check data types for each column\n",
    "print(pred_df.dtypes)\n"
   ]
  },
  {
   "cell_type": "markdown",
   "metadata": {},
   "source": [
    "Statistics "
   ]
  },
  {
   "cell_type": "markdown",
   "metadata": {},
   "source": [
    "Check for missing values "
   ]
  },
  {
   "cell_type": "code",
   "execution_count": null,
   "metadata": {},
   "outputs": [
    {
     "name": "stdout",
     "output_type": "stream",
     "text": [
      "The 'player_name' column exists!\n",
      "0        Josh Allen\n",
      "1       CeeDee Lamb\n",
      "2      Dak Prescott\n",
      "3       Tyreek Hill\n",
      "4       Jalen Hurts\n",
      "           ...     \n",
      "171     Mo Alie-Cox\n",
      "172    Luke Farrell\n",
      "173      Ian Thomas\n",
      "174    J.K. Dobbins\n",
      "175    Greg Dulcich\n",
      "Name: player_name, Length: 176, dtype: object\n"
     ]
    }
   ],
   "source": [
    "if 'player_name' in pred_df.columns:\n",
    "    print(\"The 'player_name' column exists!\")\n",
    "else:\n",
    "    print(\"The 'player_name' column does not exist.\")\n",
    "print(pred_df.player_name)"
   ]
  },
  {
   "cell_type": "code",
   "execution_count": null,
   "metadata": {},
   "outputs": [
    {
     "name": "stdout",
     "output_type": "stream",
     "text": [
      "Empty DataFrame\n",
      "Columns: [team, player_id, player_name, position, depth, draft_year, draft_round, draft_pick, draft_ovr, height, weight, college, age, seasons_played, rush_attempts, rushing_yards, touches, receptions, targets, receiving_yards, yards_after_catch, total_yards, total_tds, run_td, reception_td, fantasy_points_ppr, position_fantasy_rank, total_fantasy_rank, pass_attempts, complete_pass, incomplete_pass, passing_yards, passing_air_yards, interception, pass_td]\n",
      "Index: []\n",
      "\n",
      "[0 rows x 35 columns]\n"
     ]
    }
   ],
   "source": [
    "nan_player_name3 = pred_df[pred_df['player_name'].isna()]\n",
    "print(nan_player_name3)"
   ]
  },
  {
   "cell_type": "code",
   "execution_count": null,
   "metadata": {},
   "outputs": [
    {
     "name": "stdout",
     "output_type": "stream",
     "text": [
      "0        josh allen\n",
      "1       ceedee lamb\n",
      "2      dak prescott\n",
      "3       tyreek hill\n",
      "4       jalen hurts\n",
      "           ...     \n",
      "171     mo alie-cox\n",
      "172    luke farrell\n",
      "173      ian thomas\n",
      "174    j.k. dobbins\n",
      "175    greg dulcich\n",
      "Name: player_name, Length: 176, dtype: object\n"
     ]
    }
   ],
   "source": [
    "pred_df['player_name'] = pred_df['player_name'].str.strip().str.lower()\n",
    "print(pred_df.player_name)"
   ]
  },
  {
   "cell_type": "code",
   "execution_count": null,
   "metadata": {},
   "outputs": [
    {
     "name": "stdout",
     "output_type": "stream",
     "text": [
      "   team   player_id       player_name position  depth  draft_year  \\\n",
      "59  MIN  00-0036322  justin jefferson       WR      1        2020   \n",
      "\n",
      "    draft_round  draft_pick  draft_ovr  height  ...  fantasy_points_ppr  \\\n",
      "59            1          22         22      73  ...               215.5   \n",
      "\n",
      "   position_fantasy_rank  total_fantasy_rank  pass_attempts  complete_pass  \\\n",
      "59                    25                  60              0              0   \n",
      "\n",
      "    incomplete_pass  passing_yards  passing_air_yards  interception  pass_td  \n",
      "59                0              0                  0             0        0  \n",
      "\n",
      "[1 rows x 35 columns]\n"
     ]
    }
   ],
   "source": [
    "# Define the player name to search for\n",
    "player_name = \"justin jefferson\"\n",
    "\n",
    "# Search for the player in the 'players' column by checking if the player's name exists\n",
    "search_results = pred_df[pred_df['player_name'].str.contains(player_name, case=False, na=False)]\n",
    "\n",
    "# Print the rows that contain the player's name\n",
    "print(search_results)"
   ]
  },
  {
   "cell_type": "code",
   "execution_count": null,
   "metadata": {},
   "outputs": [],
   "source": []
  }
 ],
 "metadata": {
  "kernelspec": {
   "display_name": "venv",
   "language": "python",
   "name": "python3"
  },
  "language_info": {
   "codemirror_mode": {
    "name": "ipython",
    "version": 3
   },
   "file_extension": ".py",
   "mimetype": "text/x-python",
   "name": "python",
   "nbconvert_exporter": "python",
   "pygments_lexer": "ipython3",
   "version": "3.12.7"
  }
 },
 "nbformat": 4,
 "nbformat_minor": 2
}
