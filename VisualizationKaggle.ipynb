{
 "cells": [
  {
   "cell_type": "markdown",
   "metadata": {},
   "source": [
    "# Datasets "
   ]
  },
  {
   "cell_type": "markdown",
   "metadata": {},
   "source": [
    "https://www.kaggle.com/code/dataranch/offensive-stats-eda-model-comparison/input\n",
    "\n",
    "https://www.kaggle.com/datasets/philiphyde1/nfl-stats-1999-2022/data"
   ]
  },
  {
   "cell_type": "markdown",
   "metadata": {},
   "source": [
    "Kaggle Data"
   ]
  },
  {
   "cell_type": "code",
   "execution_count": 52,
   "metadata": {},
   "outputs": [
    {
     "name": "stdout",
     "output_type": "stream",
     "text": [
      "Data downloaded from Kaggle to: /Users/salomerivas/.cache/kagglehub/datasets/philiphyde1/nfl-stats-1999-2022/versions/10\n",
      "Data loaded successfully from: /Users/salomerivas/.cache/kagglehub/datasets/philiphyde1/nfl-stats-1999-2022/versions/10/weekly_player_data.csv (weekly_player_data.csv)\n",
      "Skipping non-CSV file: .DS_Store\n",
      "Data loaded successfully from: /Users/salomerivas/.cache/kagglehub/datasets/philiphyde1/nfl-stats-1999-2022/versions/10/2024_player_predictions.csv (2024_player_predictions.csv)\n",
      "Data loaded successfully from: /Users/salomerivas/.cache/kagglehub/datasets/philiphyde1/nfl-stats-1999-2022/versions/10/yearly_player_data.csv (yearly_player_data.csv)\n",
      "2024 Player Predictions DataFrame:\n",
      "  team   player_id   player_name position  depth  draft_year  draft_round  \\\n",
      "0  BUF  00-0034857    Josh Allen       QB      1        2018            1   \n",
      "1  DAL  00-0036358   CeeDee Lamb       WR      1        2020            1   \n",
      "2  DAL  00-0033077  Dak Prescott       QB      1        2016            4   \n",
      "3  MIA  00-0033040   Tyreek Hill       WR      1        2016            5   \n",
      "4  PHI  00-0036389   Jalen Hurts       QB      1        2020            2   \n",
      "\n",
      "   draft_pick  draft_ovr  height  ...  fantasy_points_ppr  \\\n",
      "0           7          7      77  ...              374.48   \n",
      "1          17         17      74  ...              373.00   \n",
      "2          37        135      74  ...              368.36   \n",
      "3          28        165      70  ...              365.90   \n",
      "4          21         53      73  ...              357.16   \n",
      "\n",
      "  position_fantasy_rank  total_fantasy_rank  pass_attempts  complete_pass  \\\n",
      "0                     1                   1            522            322   \n",
      "1                     1                   2              0              0   \n",
      "2                     2                   3            611            391   \n",
      "3                     2                   4              0              0   \n",
      "4                     3                   5            501            303   \n",
      "\n",
      "   incomplete_pass  passing_yards  passing_air_yards  interception  pass_td  \n",
      "0              150           3537               3817            11       25  \n",
      "1                0              0                  0             0        0  \n",
      "2              161           3949               4334             6       29  \n",
      "3                0              0                  0             0        0  \n",
      "4              143           3174               3520             8       20  \n",
      "\n",
      "[5 rows x 35 columns]\n",
      "Weekly Player Data DataFrame:\n",
      "  team   player_id player_name position  season  week game_type  \\\n",
      "0  TEN  00-0035676  A.J. Brown       WR    2019     1       REG   \n",
      "1  TEN  00-0035676  A.J. Brown       WR    2019     2       REG   \n",
      "2  TEN  00-0035676  A.J. Brown       WR    2019     3       REG   \n",
      "3  TEN  00-0035676  A.J. Brown       WR    2019     4       REG   \n",
      "4  TEN  00-0035676  A.J. Brown       WR    2019     5       REG   \n",
      "\n",
      "   pass_attempts  complete_pass  incomplete_pass  ...      college  age  wins  \\\n",
      "0            0.0            0.0              0.0  ...  Mississippi   22   1.0   \n",
      "1            0.0            0.0              0.0  ...  Mississippi   22   1.0   \n",
      "2            0.0            0.0              0.0  ...  Mississippi   22   1.0   \n",
      "3            0.0            0.0              0.0  ...  Mississippi   22   2.0   \n",
      "4            0.0            0.0              0.0  ...  Mississippi   22   2.0   \n",
      "\n",
      "   losses  ties  win_pct  opp_wins  opp_losses  opp_ties  opp_win_pct  \n",
      "0     0.0   0.0    1.000       0.0         1.0       0.0        0.000  \n",
      "1     1.0   0.0    0.500       1.0         1.0       0.0        0.500  \n",
      "2     2.0   0.0    0.333       1.0         2.0       0.0        0.333  \n",
      "3     2.0   0.0    0.500       1.0         3.0       0.0        0.250  \n",
      "4     3.0   0.0    0.400       4.0         1.0       0.0        0.800  \n",
      "\n",
      "[5 rows x 66 columns]\n",
      "Yearly Player Data DataFrame:\n",
      "  team   player_id player_name position  season  depth  pass_attempts  \\\n",
      "0  TEN  00-0035676  A.J. Brown       WR    2019    2.0            0.0   \n",
      "1  TEN  00-0035676  A.J. Brown       WR    2020    1.0            0.0   \n",
      "2  TEN  00-0035676  A.J. Brown       WR    2021    1.0            2.0   \n",
      "3  PHI  00-0035676  A.J. Brown       WR    2022    1.0            0.0   \n",
      "4  PHI  00-0035676  A.J. Brown       WR    2023    1.0            0.0   \n",
      "\n",
      "   complete_pass  incomplete_pass  passing_yards  ...  vacated_receptions  \\\n",
      "0            0.0              0.0            0.0  ...               147.0   \n",
      "1            0.0              0.0            0.0  ...                62.0   \n",
      "2            0.0              2.0            0.0  ...                74.0   \n",
      "3            0.0              0.0            0.0  ...               135.0   \n",
      "4            0.0              0.0            0.0  ...                47.0   \n",
      "\n",
      "   vacated_receiving_yards  vacated_receiving_air_yards  \\\n",
      "0                   1632.0                       1886.0   \n",
      "1                    730.0                       1015.0   \n",
      "2                    741.0                        804.0   \n",
      "3                   1769.0                       2911.0   \n",
      "4                    471.0                        753.0   \n",
      "\n",
      "   vacated_yards_after_catch  vacated_reception_td  vacated_rush_attempts  \\\n",
      "0                      646.0                   6.0                  185.0   \n",
      "1                      284.0                   4.0                    8.0   \n",
      "2                      331.0                   7.0                   88.0   \n",
      "3                      463.0                  10.0                   83.0   \n",
      "4                      217.0                   6.0                   96.0   \n",
      "\n",
      "   vacated_rushing_yards  vacated_run_td  vacated_touches  vacated_total_yards  \n",
      "0                  656.0             6.0            383.0               2420.0  \n",
      "1                   19.0             0.0            176.0               1338.0  \n",
      "2                  365.0             0.0            345.0               2147.0  \n",
      "3                  397.0             6.0            724.0               4486.0  \n",
      "4                  438.0             3.0            145.0                911.0  \n",
      "\n",
      "[5 rows x 195 columns]\n"
     ]
    }
   ],
   "source": [
    "import pandas as pd\n",
    "import kagglehub\n",
    "import os\n",
    "\n",
    "# Fetch data from Kaggle API\n",
    "try:\n",
    "    path = kagglehub.dataset_download(\"philiphyde1/nfl-stats-1999-2022\")  # Downloads the dataset\n",
    "    print(\"Data downloaded from Kaggle to:\", path)\n",
    "except Exception as e:\n",
    "    print(f\"Failed to download data from Kaggle: {e}\")\n",
    "\n",
    "# Get the list of files in the downloaded directory dynamically\n",
    "downloaded_files = os.listdir(path)\n",
    "\n",
    "# Read each file dynamically (instead of hardcoding paths)\n",
    "dataframes = []\n",
    "\n",
    "for file_name in downloaded_files:\n",
    "    # Skip non-CSV files like .DS_Store\n",
    "    if not file_name.endswith('.csv'):\n",
    "        print(f\"Skipping non-CSV file: {file_name}\")\n",
    "        continue\n",
    "    \n",
    "    file_path = os.path.join(path, file_name)\n",
    "    try:\n",
    "        if '2024_player_predictions' in file_name:\n",
    "                pred_df = pd.read_csv(file_path)\n",
    "                print(f\"Data loaded successfully from: {file_path} (2024_player_predictions.csv)\")\n",
    "        elif 'weekly_player_data' in file_name:\n",
    "                week_df = pd.read_csv(file_path)\n",
    "                print(f\"Data loaded successfully from: {file_path} (weekly_player_data.csv)\")\n",
    "        elif 'yearly_player_data' in file_name:\n",
    "                year_df = pd.read_csv(file_path)\n",
    "                print(f\"Data loaded successfully from: {file_path} (yearly_player_data.csv)\")\n",
    "    except Exception as e:\n",
    "            print(f\"Failed to load data from {file_path}: {e}\")\n",
    "\n",
    "# Check if the specific dataframes are loaded correctly\n",
    "if pred_df is not None:\n",
    "    print(\"2024 Player Predictions DataFrame:\")\n",
    "    print(pred_df.head())\n",
    "else:\n",
    "    print(\"Failed to load 2024_player_predictions.csv\")\n",
    "\n",
    "if week_df is not None:\n",
    "    print(\"Weekly Player Data DataFrame:\")\n",
    "    print(week_df.head())\n",
    "else:\n",
    "    print(\"Failed to load weekly_player_data.csv\")\n",
    "\n",
    "if year_df is not None:\n",
    "    print(\"Yearly Player Data DataFrame:\")\n",
    "    print(year_df.head())\n",
    "else:\n",
    "    print(\"Failed to load yearly_player_data.csv\")\n",
    "\n",
    "\n"
   ]
  },
  {
   "cell_type": "code",
   "execution_count": 53,
   "metadata": {},
   "outputs": [
    {
     "name": "stdout",
     "output_type": "stream",
     "text": [
      "Index(['team', 'player_id', 'player_name', 'position', 'depth', 'draft_year',\n",
      "       'draft_round', 'draft_pick', 'draft_ovr', 'height', 'weight', 'college',\n",
      "       'age', 'seasons_played', 'rush_attempts', 'rushing_yards', 'touches',\n",
      "       'receptions', 'targets', 'receiving_yards', 'yards_after_catch',\n",
      "       'total_yards', 'total_tds', 'run_td', 'reception_td',\n",
      "       'fantasy_points_ppr', 'position_fantasy_rank', 'total_fantasy_rank',\n",
      "       'pass_attempts', 'complete_pass', 'incomplete_pass', 'passing_yards',\n",
      "       'passing_air_yards', 'interception', 'pass_td'],\n",
      "      dtype='object')\n",
      "Index(['team', 'player_id', 'player_name', 'position', 'season', 'week',\n",
      "       'game_type', 'pass_attempts', 'complete_pass', 'incomplete_pass',\n",
      "       'passing_yards', 'passing_air_yards', 'pass_td', 'interception',\n",
      "       'pass_fumble_lost', 'targets', 'receptions', 'receiving_yards',\n",
      "       'receiving_air_yards', 'yards_after_catch', 'reception_td',\n",
      "       'reception_fumble_lost', 'rush_attempts', 'rushing_yards', 'run_td',\n",
      "       'run_fumble_lost', 'fantasy_points_ppr', 'air_yards_share',\n",
      "       'target_share', 'comp_pct', 'int_pct', 'pass_td_pct', 'ypa',\n",
      "       'rec_td_pct', 'yptarget', 'ypr', 'rush_td_pct', 'ypc', 'touches',\n",
      "       'total_tds', 'td_pct', 'total_yards', 'yptouch', 'passer_rating',\n",
      "       'opponent', 'offense_snaps', 'offense_pct', 'team_snaps', 'team_yards',\n",
      "       'yards_pct', 'draft_year', 'draft_round', 'draft_pick', 'draft_ovr',\n",
      "       'height', 'weight', 'college', 'age', 'wins', 'losses', 'ties',\n",
      "       'win_pct', 'opp_wins', 'opp_losses', 'opp_ties', 'opp_win_pct'],\n",
      "      dtype='object')\n",
      "Index(['team', 'player_id', 'player_name', 'position', 'season', 'depth',\n",
      "       'pass_attempts', 'complete_pass', 'incomplete_pass', 'passing_yards',\n",
      "       ...\n",
      "       'vacated_receptions', 'vacated_receiving_yards',\n",
      "       'vacated_receiving_air_yards', 'vacated_yards_after_catch',\n",
      "       'vacated_reception_td', 'vacated_rush_attempts',\n",
      "       'vacated_rushing_yards', 'vacated_run_td', 'vacated_touches',\n",
      "       'vacated_total_yards'],\n",
      "      dtype='object', length=195)\n"
     ]
    }
   ],
   "source": [
    "# Inspect columns of each dataset\n",
    "print(pred_df.columns)\n",
    "print(week_df.columns)\n",
    "print(year_df.columns)"
   ]
  },
  {
   "cell_type": "code",
   "execution_count": 54,
   "metadata": {},
   "outputs": [
    {
     "name": "stdout",
     "output_type": "stream",
     "text": [
      "Loading CSV file: yearly_team_data.csv\n",
      "Data loaded successfully from: /Users/salomerivas/.cache/kagglehub/datasets/philiphyde1/nfl-stats-1999-2022/versions/10/yearly_team_data.csv\n",
      "Loading CSV file: weekly_player_data.csv\n",
      "Data loaded successfully from: /Users/salomerivas/.cache/kagglehub/datasets/philiphyde1/nfl-stats-1999-2022/versions/10/weekly_player_data.csv\n",
      "Skipping non-CSV file: .DS_Store\n",
      "Loading CSV file: 2024_player_predictions.csv\n",
      "Data loaded successfully from: /Users/salomerivas/.cache/kagglehub/datasets/philiphyde1/nfl-stats-1999-2022/versions/10/2024_player_predictions.csv\n",
      "Loading CSV file: yearly_player_data.csv\n",
      "Data loaded successfully from: /Users/salomerivas/.cache/kagglehub/datasets/philiphyde1/nfl-stats-1999-2022/versions/10/yearly_player_data.csv\n",
      "Loading CSV file: weekly_team_data.csv\n",
      "Data loaded successfully from: /Users/salomerivas/.cache/kagglehub/datasets/philiphyde1/nfl-stats-1999-2022/versions/10/weekly_team_data.csv\n"
     ]
    }
   ],
   "source": [
    "for file_name in downloaded_files:\n",
    "    # Skip non-CSV files like .DS_Store\n",
    "    if not file_name.endswith('.csv'):\n",
    "        print(f\"Skipping non-CSV file: {file_name}\")\n",
    "        continue\n",
    "    \n",
    "    file_path = os.path.join(path, file_name)\n",
    "    try:\n",
    "        print(f\"Loading CSV file: {file_name}\")\n",
    "        df = pd.read_csv(file_path)\n",
    "        dataframes.append(df)\n",
    "        print(f\"Data loaded successfully from: {file_path}\")\n",
    "    except Exception as e:\n",
    "        print(f\"Failed to load data from {file_path}: {e}\")\n"
   ]
  },
  {
   "cell_type": "markdown",
   "metadata": {},
   "source": [
    "# Weekly Data "
   ]
  },
  {
   "cell_type": "markdown",
   "metadata": {},
   "source": [
    "Overview of the Dataset "
   ]
  },
  {
   "cell_type": "code",
   "execution_count": 56,
   "metadata": {},
   "outputs": [
    {
     "name": "stdout",
     "output_type": "stream",
     "text": [
      "Dataset Shape: (50863, 66)\n",
      "  team   player_id player_name position  season  week game_type  \\\n",
      "0  TEN  00-0035676  A.J. Brown       WR    2019     1       REG   \n",
      "1  TEN  00-0035676  A.J. Brown       WR    2019     2       REG   \n",
      "2  TEN  00-0035676  A.J. Brown       WR    2019     3       REG   \n",
      "3  TEN  00-0035676  A.J. Brown       WR    2019     4       REG   \n",
      "4  TEN  00-0035676  A.J. Brown       WR    2019     5       REG   \n",
      "\n",
      "   pass_attempts  complete_pass  incomplete_pass  ...      college  age  wins  \\\n",
      "0            0.0            0.0              0.0  ...  Mississippi   22   1.0   \n",
      "1            0.0            0.0              0.0  ...  Mississippi   22   1.0   \n",
      "2            0.0            0.0              0.0  ...  Mississippi   22   1.0   \n",
      "3            0.0            0.0              0.0  ...  Mississippi   22   2.0   \n",
      "4            0.0            0.0              0.0  ...  Mississippi   22   2.0   \n",
      "\n",
      "   losses  ties  win_pct  opp_wins  opp_losses  opp_ties  opp_win_pct  \n",
      "0     0.0   0.0    1.000       0.0         1.0       0.0        0.000  \n",
      "1     1.0   0.0    0.500       1.0         1.0       0.0        0.500  \n",
      "2     2.0   0.0    0.333       1.0         2.0       0.0        0.333  \n",
      "3     2.0   0.0    0.500       1.0         3.0       0.0        0.250  \n",
      "4     3.0   0.0    0.400       4.0         1.0       0.0        0.800  \n",
      "\n",
      "[5 rows x 66 columns]\n",
      "      team   player_id     player_name position  season  week game_type  \\\n",
      "50858  NYJ  00-0037157  Zonovan Knight       RB    2022    15       REG   \n",
      "50859  NYJ  00-0037157  Zonovan Knight       RB    2022    16       REG   \n",
      "50860  NYJ  00-0037157  Zonovan Knight       RB    2022    17       REG   \n",
      "50861  NYJ  00-0037157  Zonovan Knight       RB    2022    18       REG   \n",
      "50862  DET  00-0037157  Zonovan Knight       RB    2023     5       REG   \n",
      "\n",
      "       pass_attempts  complete_pass  incomplete_pass  ...  \\\n",
      "50858            0.0            0.0              0.0  ...   \n",
      "50859            0.0            0.0              0.0  ...   \n",
      "50860            0.0            0.0              0.0  ...   \n",
      "50861            0.0            0.0              0.0  ...   \n",
      "50862            0.0            0.0              0.0  ...   \n",
      "\n",
      "                    college  age  wins  losses  ties  win_pct  opp_wins  \\\n",
      "50858  North Carolina State   21   7.0     7.0   0.0    0.500       7.0   \n",
      "50859  North Carolina State   21   7.0     8.0   0.0    0.467       7.0   \n",
      "50860  North Carolina State   21   7.0     9.0   0.0    0.438       8.0   \n",
      "50861  North Carolina State   21   7.0    10.0   0.0    0.412       9.0   \n",
      "50862  North Carolina State   22   4.0     1.0   0.0    0.800       0.0   \n",
      "\n",
      "       opp_losses  opp_ties  opp_win_pct  \n",
      "50858         7.0       0.0        0.500  \n",
      "50859         8.0       0.0        0.467  \n",
      "50860         8.0       0.0        0.500  \n",
      "50861         8.0       0.0        0.529  \n",
      "50862         5.0       0.0        0.000  \n",
      "\n",
      "[5 rows x 66 columns]\n",
      "Index(['team', 'player_id', 'player_name', 'position', 'season', 'week',\n",
      "       'game_type', 'pass_attempts', 'complete_pass', 'incomplete_pass',\n",
      "       'passing_yards', 'passing_air_yards', 'pass_td', 'interception',\n",
      "       'pass_fumble_lost', 'targets', 'receptions', 'receiving_yards',\n",
      "       'receiving_air_yards', 'yards_after_catch', 'reception_td',\n",
      "       'reception_fumble_lost', 'rush_attempts', 'rushing_yards', 'run_td',\n",
      "       'run_fumble_lost', 'fantasy_points_ppr', 'air_yards_share',\n",
      "       'target_share', 'comp_pct', 'int_pct', 'pass_td_pct', 'ypa',\n",
      "       'rec_td_pct', 'yptarget', 'ypr', 'rush_td_pct', 'ypc', 'touches',\n",
      "       'total_tds', 'td_pct', 'total_yards', 'yptouch', 'passer_rating',\n",
      "       'opponent', 'offense_snaps', 'offense_pct', 'team_snaps', 'team_yards',\n",
      "       'yards_pct', 'draft_year', 'draft_round', 'draft_pick', 'draft_ovr',\n",
      "       'height', 'weight', 'college', 'age', 'wins', 'losses', 'ties',\n",
      "       'win_pct', 'opp_wins', 'opp_losses', 'opp_ties', 'opp_win_pct'],\n",
      "      dtype='object')\n",
      "team            object\n",
      "player_id       object\n",
      "player_name     object\n",
      "position        object\n",
      "season           int64\n",
      "                ...   \n",
      "win_pct        float64\n",
      "opp_wins       float64\n",
      "opp_losses     float64\n",
      "opp_ties       float64\n",
      "opp_win_pct    float64\n",
      "Length: 66, dtype: object\n"
     ]
    }
   ],
   "source": [
    "import pandas as pd\n",
    "\n",
    "# Check the shape\n",
    "print(\"Dataset Shape:\", week_df.shape)\n",
    "\n",
    "print(week_df.head())\n",
    "\n",
    "print(week_df.tail())\n",
    "\n",
    "# List the column names\n",
    "print(week_df.columns)\n",
    "\n",
    "# Check data types for each column\n",
    "print(week_df.dtypes)"
   ]
  },
  {
   "cell_type": "code",
   "execution_count": 61,
   "metadata": {},
   "outputs": [
    {
     "name": "stdout",
     "output_type": "stream",
     "text": [
      "The 'player_name' column exists!\n",
      "0            A.J. Brown\n",
      "1            A.J. Brown\n",
      "2            A.J. Brown\n",
      "3            A.J. Brown\n",
      "4            A.J. Brown\n",
      "              ...      \n",
      "50858    Zonovan Knight\n",
      "50859    Zonovan Knight\n",
      "50860    Zonovan Knight\n",
      "50861    Zonovan Knight\n",
      "50862    Zonovan Knight\n",
      "Name: player_name, Length: 50863, dtype: object\n"
     ]
    }
   ],
   "source": [
    "if 'player_name' in week_df.columns:\n",
    "    print(\"The 'player_name' column exists!\")\n",
    "else:\n",
    "    print(\"The 'player_name' column does not exist.\")\n",
    "print(week_df.player_name)"
   ]
  },
  {
   "cell_type": "code",
   "execution_count": 72,
   "metadata": {},
   "outputs": [
    {
     "name": "stdout",
     "output_type": "stream",
     "text": [
      "Empty DataFrame\n",
      "Columns: [team, player_id, player_name, position, season, week, game_type, pass_attempts, complete_pass, incomplete_pass, passing_yards, passing_air_yards, pass_td, interception, pass_fumble_lost, targets, receptions, receiving_yards, receiving_air_yards, yards_after_catch, reception_td, reception_fumble_lost, rush_attempts, rushing_yards, run_td, run_fumble_lost, fantasy_points_ppr, air_yards_share, target_share, comp_pct, int_pct, pass_td_pct, ypa, rec_td_pct, yptarget, ypr, rush_td_pct, ypc, touches, total_tds, td_pct, total_yards, yptouch, passer_rating, opponent, offense_snaps, offense_pct, team_snaps, team_yards, yards_pct, draft_year, draft_round, draft_pick, draft_ovr, height, weight, college, age, wins, losses, ties, win_pct, opp_wins, opp_losses, opp_ties, opp_win_pct]\n",
      "Index: []\n",
      "\n",
      "[0 rows x 66 columns]\n"
     ]
    }
   ],
   "source": [
    "nan_player_name1 = week_df[week_df['player_name'].isna()]\n",
    "print(nan_player_name1)"
   ]
  },
  {
   "cell_type": "markdown",
   "metadata": {},
   "source": [
    "# Yearly Data "
   ]
  },
  {
   "cell_type": "markdown",
   "metadata": {},
   "source": [
    "Overview of the Dataset "
   ]
  },
  {
   "cell_type": "code",
   "execution_count": 57,
   "metadata": {},
   "outputs": [
    {
     "name": "stdout",
     "output_type": "stream",
     "text": [
      "Dataset Shape: (5663, 195)\n",
      "  team   player_id player_name position  season  depth  pass_attempts  \\\n",
      "0  TEN  00-0035676  A.J. Brown       WR    2019    2.0            0.0   \n",
      "1  TEN  00-0035676  A.J. Brown       WR    2020    1.0            0.0   \n",
      "2  TEN  00-0035676  A.J. Brown       WR    2021    1.0            2.0   \n",
      "3  PHI  00-0035676  A.J. Brown       WR    2022    1.0            0.0   \n",
      "4  PHI  00-0035676  A.J. Brown       WR    2023    1.0            0.0   \n",
      "\n",
      "   complete_pass  incomplete_pass  passing_yards  ...  vacated_receptions  \\\n",
      "0            0.0              0.0            0.0  ...               147.0   \n",
      "1            0.0              0.0            0.0  ...                62.0   \n",
      "2            0.0              2.0            0.0  ...                74.0   \n",
      "3            0.0              0.0            0.0  ...               135.0   \n",
      "4            0.0              0.0            0.0  ...                47.0   \n",
      "\n",
      "   vacated_receiving_yards  vacated_receiving_air_yards  \\\n",
      "0                   1632.0                       1886.0   \n",
      "1                    730.0                       1015.0   \n",
      "2                    741.0                        804.0   \n",
      "3                   1769.0                       2911.0   \n",
      "4                    471.0                        753.0   \n",
      "\n",
      "   vacated_yards_after_catch  vacated_reception_td  vacated_rush_attempts  \\\n",
      "0                      646.0                   6.0                  185.0   \n",
      "1                      284.0                   4.0                    8.0   \n",
      "2                      331.0                   7.0                   88.0   \n",
      "3                      463.0                  10.0                   83.0   \n",
      "4                      217.0                   6.0                   96.0   \n",
      "\n",
      "   vacated_rushing_yards  vacated_run_td  vacated_touches  vacated_total_yards  \n",
      "0                  656.0             6.0            383.0               2420.0  \n",
      "1                   19.0             0.0            176.0               1338.0  \n",
      "2                  365.0             0.0            345.0               2147.0  \n",
      "3                  397.0             6.0            724.0               4486.0  \n",
      "4                  438.0             3.0            145.0                911.0  \n",
      "\n",
      "[5 rows x 195 columns]\n",
      "     team   player_id     player_name position  season  depth  pass_attempts  \\\n",
      "5658   LV  00-0033891       Zay Jones       WR    2021    1.0            0.0   \n",
      "5659  JAX  00-0033891       Zay Jones       WR    2022    1.0            0.0   \n",
      "5660  JAX  00-0033891       Zay Jones       WR    2023    1.0            0.0   \n",
      "5661  NYJ  00-0037157  Zonovan Knight       RB    2022    2.0            0.0   \n",
      "5662  DET  00-0037157  Zonovan Knight       RB    2023    3.0            0.0   \n",
      "\n",
      "      complete_pass  incomplete_pass  passing_yards  ...  vacated_receptions  \\\n",
      "5658            0.0              0.0            0.0  ...                 0.0   \n",
      "5659            0.0              0.0            0.0  ...               187.0   \n",
      "5660            0.0              0.0            0.0  ...               223.0   \n",
      "5661            0.0              0.0            0.0  ...               101.0   \n",
      "5662            0.0              0.0            0.0  ...               101.0   \n",
      "\n",
      "      vacated_receiving_yards  vacated_receiving_air_yards  \\\n",
      "5658                      0.0                          0.0   \n",
      "5659                   1988.0                       2705.0   \n",
      "5660                   2164.0                       2396.0   \n",
      "5661                   1044.0                       1525.0   \n",
      "5662                    979.0                       1168.0   \n",
      "\n",
      "      vacated_yards_after_catch  vacated_reception_td  vacated_rush_attempts  \\\n",
      "5658                        0.0                   0.0                    0.0   \n",
      "5659                      688.0                  12.0                   44.0   \n",
      "5660                     1189.0                   7.0                  310.0   \n",
      "5661                      433.0                   7.0                  248.0   \n",
      "5662                      407.0                   5.0                   35.0   \n",
      "\n",
      "      vacated_rushing_yards  vacated_run_td  vacated_touches  \\\n",
      "5658                    0.0             0.0              0.0   \n",
      "5659                  213.0             2.0            895.0   \n",
      "5660                 1302.0            10.0            533.0   \n",
      "5661                 1052.0             6.0            747.0   \n",
      "5662                  212.0             3.0            232.0   \n",
      "\n",
      "      vacated_total_yards  \n",
      "5658                  0.0  \n",
      "5659               5908.0  \n",
      "5660               3466.0  \n",
      "5661               4072.0  \n",
      "5662               1713.0  \n",
      "\n",
      "[5 rows x 195 columns]\n",
      "Index(['team', 'player_id', 'player_name', 'position', 'season', 'depth',\n",
      "       'pass_attempts', 'complete_pass', 'incomplete_pass', 'passing_yards',\n",
      "       ...\n",
      "       'vacated_receptions', 'vacated_receiving_yards',\n",
      "       'vacated_receiving_air_yards', 'vacated_yards_after_catch',\n",
      "       'vacated_reception_td', 'vacated_rush_attempts',\n",
      "       'vacated_rushing_yards', 'vacated_run_td', 'vacated_touches',\n",
      "       'vacated_total_yards'],\n",
      "      dtype='object', length=195)\n",
      "team                      object\n",
      "player_id                 object\n",
      "player_name               object\n",
      "position                  object\n",
      "season                     int64\n",
      "                          ...   \n",
      "vacated_rush_attempts    float64\n",
      "vacated_rushing_yards    float64\n",
      "vacated_run_td           float64\n",
      "vacated_touches          float64\n",
      "vacated_total_yards      float64\n",
      "Length: 195, dtype: object\n"
     ]
    }
   ],
   "source": [
    "import pandas as pd\n",
    "\n",
    "# Check the shape\n",
    "print(\"Dataset Shape:\", year_df.shape)\n",
    "\n",
    "print(year_df.head())\n",
    "\n",
    "print(year_df.tail())\n",
    "\n",
    "# List the column names\n",
    "print(year_df.columns)\n",
    "\n",
    "# Check data types for each column\n",
    "print(year_df.dtypes)"
   ]
  },
  {
   "cell_type": "code",
   "execution_count": 64,
   "metadata": {},
   "outputs": [
    {
     "name": "stdout",
     "output_type": "stream",
     "text": [
      "The 'player_name' column exists!\n",
      "0           A.J. Brown\n",
      "1           A.J. Brown\n",
      "2           A.J. Brown\n",
      "3           A.J. Brown\n",
      "4           A.J. Brown\n",
      "             ...      \n",
      "5658         Zay Jones\n",
      "5659         Zay Jones\n",
      "5660         Zay Jones\n",
      "5661    Zonovan Knight\n",
      "5662    Zonovan Knight\n",
      "Name: player_name, Length: 5663, dtype: object\n"
     ]
    }
   ],
   "source": [
    "if 'player_name' in year_df.columns:\n",
    "    print(\"The 'player_name' column exists!\")\n",
    "else:\n",
    "    print(\"The 'player_name' column does not exist.\")\n",
    "print(year_df.player_name)"
   ]
  },
  {
   "cell_type": "code",
   "execution_count": 73,
   "metadata": {},
   "outputs": [
    {
     "name": "stdout",
     "output_type": "stream",
     "text": [
      "Empty DataFrame\n",
      "Columns: [team, player_id, player_name, position, season, depth, pass_attempts, complete_pass, incomplete_pass, passing_yards, passing_air_yards, pass_td, interception, pass_fumble_lost, targets, receptions, receiving_yards, receiving_air_yards, yards_after_catch, reception_td, reception_fumble_lost, rush_attempts, rushing_yards, run_td, run_fumble_lost, fantasy_points_ppr, air_yards_share, target_share, comp_pct, int_pct, pass_td_pct, ypa, rec_td_pct, yptarget, ypr, rush_td_pct, ypc, touches, total_tds, td_pct, total_yards, yptouch, games, pass_ypg, rec_ypg, rush_ypg, ypg, ppg, passer_rating, game_type, offense_pct, delta_depth, delta_pass_attempts, delta_targets, delta_rush_attempts, delta_air_yards_share, delta_target_share, delta_comp_pct, delta_int_pct, delta_pass_td_pct, delta_ypa, delta_rec_td_pct, delta_yptarget, delta_rush_td_pct, delta_ypc, delta_touches, delta_td_pct, delta_yptouch, delta_games, delta_pass_ypg, delta_rec_ypg, delta_rush_ypg, delta_ypg, delta_ppg, delta_passer_rating, delta_offense_pct, team_total_snaps, team_yards_gained, team_pass_snaps_count, team_pass_snaps_pct, team_pass_attempts, team_complete_pass, team_incomplete_pass, team_passing_yards, team_pass_td, team_interception, team_targets, team_receptions, team_receiving_yards, team_receiving_td, team_rush_snaps_count, team_rush_snaps_pct, team_rushing_yards, team_run_td, offense_snaps, yards_pct, draft_year, draft_round, draft_pick, draft_ovr, ...]\n",
      "Index: []\n",
      "\n",
      "[0 rows x 195 columns]\n"
     ]
    }
   ],
   "source": [
    "nan_player_name2 = year_df[year_df['player_name'].isna()]\n",
    "print(nan_player_name2)"
   ]
  },
  {
   "cell_type": "code",
   "execution_count": 74,
   "metadata": {},
   "outputs": [
    {
     "name": "stdout",
     "output_type": "stream",
     "text": [
      "0           a.j. brown\n",
      "1           a.j. brown\n",
      "2           a.j. brown\n",
      "3           a.j. brown\n",
      "4           a.j. brown\n",
      "             ...      \n",
      "5658         zay jones\n",
      "5659         zay jones\n",
      "5660         zay jones\n",
      "5661    zonovan knight\n",
      "5662    zonovan knight\n",
      "Name: player_name, Length: 5663, dtype: object\n"
     ]
    }
   ],
   "source": [
    "year_df['player_name'] = year_df['player_name'].str.strip().str.lower()\n",
    "print(year_df.player_name)"
   ]
  },
  {
   "cell_type": "markdown",
   "metadata": {},
   "source": [
    "# Predictions 2024 "
   ]
  },
  {
   "cell_type": "markdown",
   "metadata": {},
   "source": [
    "Overview of the Dataset "
   ]
  },
  {
   "cell_type": "code",
   "execution_count": 59,
   "metadata": {},
   "outputs": [
    {
     "name": "stdout",
     "output_type": "stream",
     "text": [
      "Dataset Shape: (176, 35)\n",
      "  team   player_id   player_name position  depth  draft_year  draft_round  \\\n",
      "0  BUF  00-0034857    Josh Allen       QB      1        2018            1   \n",
      "1  DAL  00-0036358   CeeDee Lamb       WR      1        2020            1   \n",
      "2  DAL  00-0033077  Dak Prescott       QB      1        2016            4   \n",
      "3  MIA  00-0033040   Tyreek Hill       WR      1        2016            5   \n",
      "4  PHI  00-0036389   Jalen Hurts       QB      1        2020            2   \n",
      "\n",
      "   draft_pick  draft_ovr  height  ...  fantasy_points_ppr  \\\n",
      "0           7          7      77  ...              374.48   \n",
      "1          17         17      74  ...              373.00   \n",
      "2          37        135      74  ...              368.36   \n",
      "3          28        165      70  ...              365.90   \n",
      "4          21         53      73  ...              357.16   \n",
      "\n",
      "  position_fantasy_rank  total_fantasy_rank  pass_attempts  complete_pass  \\\n",
      "0                     1                   1            522            322   \n",
      "1                     1                   2              0              0   \n",
      "2                     2                   3            611            391   \n",
      "3                     2                   4              0              0   \n",
      "4                     3                   5            501            303   \n",
      "\n",
      "   incomplete_pass  passing_yards  passing_air_yards  interception  pass_td  \n",
      "0              150           3537               3817            11       25  \n",
      "1                0              0                  0             0        0  \n",
      "2              161           3949               4334             6       29  \n",
      "3                0              0                  0             0        0  \n",
      "4              143           3174               3520             8       20  \n",
      "\n",
      "[5 rows x 35 columns]\n",
      "    team   player_id   player_name position  depth  draft_year  draft_round  \\\n",
      "171  IND  00-0033217   Mo Alie-Cox       TE      1        2017            8   \n",
      "172  JAX  00-0036887  Luke Farrell       TE      1        2021            5   \n",
      "173  CAR  00-0034365    Ian Thomas       TE      1        2018            4   \n",
      "174  LAC  00-0036158  J.K. Dobbins       RB      2        2020            2   \n",
      "175  DEN  00-0037252  Greg Dulcich       TE      1        2022            3   \n",
      "\n",
      "     draft_pick  draft_ovr  height  ...  fantasy_points_ppr  \\\n",
      "171          48        263      77  ...                32.0   \n",
      "172           1        145      77  ...                31.5   \n",
      "173           1        101      76  ...                12.3   \n",
      "174          23         55      70  ...                 6.2   \n",
      "175          16         80      76  ...                 3.9   \n",
      "\n",
      "    position_fantasy_rank  total_fantasy_rank  pass_attempts  complete_pass  \\\n",
      "171                    33                 172              0              0   \n",
      "172                    34                 173              0              0   \n",
      "173                    35                 174              0              0   \n",
      "174                    40                 175              0              0   \n",
      "175                    36                 176              0              0   \n",
      "\n",
      "     incomplete_pass  passing_yards  passing_air_yards  interception  pass_td  \n",
      "171                0              0                  0             0        0  \n",
      "172                0              0                  0             0        0  \n",
      "173                0              0                  0             0        0  \n",
      "174                0              0                  0             0        0  \n",
      "175                0              0                  0             0        0  \n",
      "\n",
      "[5 rows x 35 columns]\n",
      "Index(['team', 'player_id', 'player_name', 'position', 'depth', 'draft_year',\n",
      "       'draft_round', 'draft_pick', 'draft_ovr', 'height', 'weight', 'college',\n",
      "       'age', 'seasons_played', 'rush_attempts', 'rushing_yards', 'touches',\n",
      "       'receptions', 'targets', 'receiving_yards', 'yards_after_catch',\n",
      "       'total_yards', 'total_tds', 'run_td', 'reception_td',\n",
      "       'fantasy_points_ppr', 'position_fantasy_rank', 'total_fantasy_rank',\n",
      "       'pass_attempts', 'complete_pass', 'incomplete_pass', 'passing_yards',\n",
      "       'passing_air_yards', 'interception', 'pass_td'],\n",
      "      dtype='object')\n",
      "team                      object\n",
      "player_id                 object\n",
      "player_name               object\n",
      "position                  object\n",
      "depth                      int64\n",
      "draft_year                 int64\n",
      "draft_round                int64\n",
      "draft_pick                 int64\n",
      "draft_ovr                  int64\n",
      "height                     int64\n",
      "weight                     int64\n",
      "college                   object\n",
      "age                        int64\n",
      "seasons_played             int64\n",
      "rush_attempts              int64\n",
      "rushing_yards              int64\n",
      "touches                    int64\n",
      "receptions                 int64\n",
      "targets                    int64\n",
      "receiving_yards            int64\n",
      "yards_after_catch          int64\n",
      "total_yards                int64\n",
      "total_tds                  int64\n",
      "run_td                     int64\n",
      "reception_td               int64\n",
      "fantasy_points_ppr       float64\n",
      "position_fantasy_rank      int64\n",
      "total_fantasy_rank         int64\n",
      "pass_attempts              int64\n",
      "complete_pass              int64\n",
      "incomplete_pass            int64\n",
      "passing_yards              int64\n",
      "passing_air_yards          int64\n",
      "interception               int64\n",
      "pass_td                    int64\n",
      "dtype: object\n"
     ]
    }
   ],
   "source": [
    "import pandas as pd\n",
    "\n",
    "# Check the shape\n",
    "print(\"Dataset Shape:\", pred_df.shape)\n",
    "\n",
    "print(pred_df.head())\n",
    "\n",
    "print(pred_df.tail())\n",
    "\n",
    "# List the column names\n",
    "print(pred_df.columns)\n",
    "\n",
    "# Check data types for each column\n",
    "print(pred_df.dtypes)\n"
   ]
  },
  {
   "cell_type": "markdown",
   "metadata": {},
   "source": [
    "Statistics "
   ]
  },
  {
   "cell_type": "markdown",
   "metadata": {},
   "source": [
    "Check for missing values "
   ]
  },
  {
   "cell_type": "code",
   "execution_count": 66,
   "metadata": {},
   "outputs": [
    {
     "name": "stdout",
     "output_type": "stream",
     "text": [
      "The 'player_name' column exists!\n",
      "0        Josh Allen\n",
      "1       CeeDee Lamb\n",
      "2      Dak Prescott\n",
      "3       Tyreek Hill\n",
      "4       Jalen Hurts\n",
      "           ...     \n",
      "171     Mo Alie-Cox\n",
      "172    Luke Farrell\n",
      "173      Ian Thomas\n",
      "174    J.K. Dobbins\n",
      "175    Greg Dulcich\n",
      "Name: player_name, Length: 176, dtype: object\n"
     ]
    }
   ],
   "source": [
    "if 'player_name' in pred_df.columns:\n",
    "    print(\"The 'player_name' column exists!\")\n",
    "else:\n",
    "    print(\"The 'player_name' column does not exist.\")\n",
    "print(pred_df.player_name)"
   ]
  },
  {
   "cell_type": "code",
   "execution_count": 75,
   "metadata": {},
   "outputs": [
    {
     "name": "stdout",
     "output_type": "stream",
     "text": [
      "Empty DataFrame\n",
      "Columns: [team, player_id, player_name, position, depth, draft_year, draft_round, draft_pick, draft_ovr, height, weight, college, age, seasons_played, rush_attempts, rushing_yards, touches, receptions, targets, receiving_yards, yards_after_catch, total_yards, total_tds, run_td, reception_td, fantasy_points_ppr, position_fantasy_rank, total_fantasy_rank, pass_attempts, complete_pass, incomplete_pass, passing_yards, passing_air_yards, interception, pass_td]\n",
      "Index: []\n",
      "\n",
      "[0 rows x 35 columns]\n"
     ]
    }
   ],
   "source": [
    "nan_player_name3 = pred_df[pred_df['player_name'].isna()]\n",
    "print(nan_player_name3)"
   ]
  },
  {
   "cell_type": "code",
   "execution_count": 76,
   "metadata": {},
   "outputs": [
    {
     "name": "stdout",
     "output_type": "stream",
     "text": [
      "0        josh allen\n",
      "1       ceedee lamb\n",
      "2      dak prescott\n",
      "3       tyreek hill\n",
      "4       jalen hurts\n",
      "           ...     \n",
      "171     mo alie-cox\n",
      "172    luke farrell\n",
      "173      ian thomas\n",
      "174    j.k. dobbins\n",
      "175    greg dulcich\n",
      "Name: player_name, Length: 176, dtype: object\n"
     ]
    }
   ],
   "source": [
    "pred_df['player_name'] = pred_df['player_name'].str.strip().str.lower()\n",
    "print(pred_df.player_name)"
   ]
  },
  {
   "cell_type": "code",
   "execution_count": 79,
   "metadata": {},
   "outputs": [
    {
     "name": "stdout",
     "output_type": "stream",
     "text": [
      "   team   player_id       player_name position  depth  draft_year  \\\n",
      "59  MIN  00-0036322  justin jefferson       WR      1        2020   \n",
      "\n",
      "    draft_round  draft_pick  draft_ovr  height  ...  fantasy_points_ppr  \\\n",
      "59            1          22         22      73  ...               215.5   \n",
      "\n",
      "   position_fantasy_rank  total_fantasy_rank  pass_attempts  complete_pass  \\\n",
      "59                    25                  60              0              0   \n",
      "\n",
      "    incomplete_pass  passing_yards  passing_air_yards  interception  pass_td  \n",
      "59                0              0                  0             0        0  \n",
      "\n",
      "[1 rows x 35 columns]\n"
     ]
    }
   ],
   "source": [
    "# Define the player name to search for\n",
    "player_name = \"justin jefferson\"\n",
    "\n",
    "# Search for the player in the 'players' column by checking if the player's name exists\n",
    "search_results = pred_df[pred_df['player_name'].str.contains(player_name, case=False, na=False)]\n",
    "\n",
    "# Print the rows that contain the player's name\n",
    "print(search_results)"
   ]
  }
 ],
 "metadata": {
  "kernelspec": {
   "display_name": "venv",
   "language": "python",
   "name": "python3"
  },
  "language_info": {
   "codemirror_mode": {
    "name": "ipython",
    "version": 3
   },
   "file_extension": ".py",
   "mimetype": "text/x-python",
   "name": "python",
   "nbconvert_exporter": "python",
   "pygments_lexer": "ipython3",
   "version": "3.12.7"
  }
 },
 "nbformat": 4,
 "nbformat_minor": 2
}
